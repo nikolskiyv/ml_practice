{
 "cells": [
  {
   "cell_type": "markdown",
   "metadata": {},
   "source": [
    "## Нелинейная аппроксимация"
   ]
  },
  {
   "cell_type": "code",
   "execution_count": 103,
   "metadata": {},
   "outputs": [],
   "source": [
    "import numpy as np\n",
    "from scipy.optimize import minimize\n",
    "import matplotlib.pyplot as plt"
   ]
  },
  {
   "cell_type": "markdown",
   "metadata": {},
   "source": [
    "#### Генерация набора данных"
   ]
  },
  {
   "cell_type": "code",
   "execution_count": 104,
   "metadata": {},
   "outputs": [
    {
     "data": {
      "image/png": "[encoded data removed]",
      "text/plain": [
       "<Figure size 432x288 with 1 Axes>"
      ]
     },
     "metadata": {},
     "output_type": "display_data"
    }
   ],
   "source": [
    "n = 50\n",
    "x = np.linspace(-3, 3, n)\n",
    "\n",
    "# Combination of three Gauss functions\n",
    "y = 1.*np.exp(-((x + 0.5) / 1)**2) +  1.*np.exp(-((x - 1.0) / 2)**2) + 1.0*2.*np.exp(-((x - 2.0) / 3)**2)\n",
    "y_true = y + 0.01*np.random.normal(0, 1, n)\n",
    "\n",
    "plt.plot(x, y, '-');\n",
    "plt.plot(x, y_true, 'o');"
   ]
  },
  {
   "cell_type": "markdown",
   "metadata": {},
   "source": [
    "#### Разложение аппроксимирующей функции по радиальным базисным функциям"
   ]
  },
  {
   "cell_type": "markdown",
   "metadata": {},
   "source": [
    "$y=\\sum\\limits_{i=1}^m{a_i\\varphi_i(x)}\\hspace{10mm}\\varphi_i=\\mathrm{e}^{-\\left(\\dfrac{x-b_i}{d_i}\\right)^2}$\n",
    "  \n",
    "Представим параметры $a, b, d$ в виде одного вектора $w$ как их последовательную конкатенацию\n",
    "  \n",
    "$y=\\sum\\limits_{i=1}^m{w_i\\varphi_i(x)}\\hspace{10mm}\\varphi_i=\\mathrm{e}^{-\\left(\\dfrac{x-w_{i+m}}{w_{i+2m}}\\right)^2}$"
   ]
  },
  {
   "cell_type": "code",
   "execution_count": 105,
   "metadata": {},
   "outputs": [],
   "source": [
    "def basis_functions(w, x):\n",
    "    basis = np.ndarray((len(x), m))\n",
    "    for i in range(len(x)):\n",
    "        basis[i] = np.exp(-((x[i] - w[m:m*2]) / w[m*2:m*3])**2)\n",
    "    return np.sum(basis*w[:m], axis=1)"
   ]
  },
  {
   "cell_type": "markdown",
   "metadata": {},
   "source": [
    "#### Производные аппроксимирующей функции по параметрам"
   ]
  },
  {
   "cell_type": "markdown",
   "metadata": {},
   "source": [
    "$\\dfrac{\\partial y}{\\partial a_i}=\\mathrm{e}^{-\\left(\\frac{x-b_i}{d_i}\\right)^2}$\n",
    "  \n",
    "$\\dfrac{\\partial y}{\\partial b_i}=\\dfrac{2a_i\\left(x-b_i\\right)\\mathrm{e}^{-\\left(\\frac{x-b_i}{d_i}\\right)^2}}{d_i^2}$\n",
    "  \n",
    "$\\dfrac{\\partial y}{\\partial d_i}=\\dfrac{2a_i\\left(x-b_i\\right)^2\\mathrm{e}^{-\\left(\\frac{x-b_i}{d_i}\\right)^2}}{d_i^3}$"
   ]
  },
  {
   "cell_type": "code",
   "execution_count": 106,
   "metadata": {},
   "outputs": [],
   "source": [
    "def basis_functions_deriv(w, x):\n",
    "    deriv = np.zeros((3*m, len(x)))\n",
    "    for i in range(3*m):\n",
    "        if i < m: # a\n",
    "            deriv[i] = np.exp(-((x - w[m+i]) / w[m*2+i])**2)\n",
    "        elif i < 2*m: # b\n",
    "            expon = np.exp(-((x - w[i]) / w[m+i])**2)\n",
    "            deriv[i] = (2*w[i-m]*(x-w[i])*expon)/(w[i+m]**2)\n",
    "        elif i < 3*m: # d\n",
    "            expon = np.exp(-((x - w[i-m]) / w[i])**2)\n",
    "            deriv[i] =(2*w[i-2*m]*((x-w[i-m])**2)*expon)/(w[i]**3)\n",
    "    \n",
    "    return deriv"
   ]
  },
  {
   "cell_type": "markdown",
   "metadata": {},
   "source": [
    "#### Вторые производные аппроксимирующей функции по параметрам"
   ]
  },
  {
   "cell_type": "markdown",
   "metadata": {},
   "source": [
    "$\\dfrac{\\partial^2 y}{\\partial a_i \\partial a_j}=0\\hspace{10mm}\\forall{i,j}$\n",
    "  \n",
    "$\\dfrac{\\partial^2 y}{\\partial a_i \\partial b_j}=\\dfrac{2\\left(x-b_i\\right)\\mathrm{e}^{-\\left(\\frac{x-b_i}{d_i}\\right)^2}}{d_i^2}\\hspace{10mm}i=j$\n",
    "  \n",
    "$\\dfrac{\\partial^2 y}{\\partial a_i \\partial d_j}=\\dfrac{2\\left(x-b_i\\right)^2\\mathrm{e}^{-\\left(\\frac{x-b_i}{d_i}\\right)^2}}{d_i^3}\\hspace{10mm}i=j$\n",
    "  \n",
    "---------\n",
    "$\\dfrac{\\partial^2 y}{\\partial b_i \\partial a_j}=\\dfrac{2\\left(x-b_i\\right)\\mathrm{e}^{-\\left(\\frac{x-b_i}{d_i}\\right)^2}}{d_i^2}\\hspace{10mm}i=j$\n",
    "  \n",
    "$\\dfrac{\\partial^2 y}{\\partial b_i \\partial b_j}=\\dfrac{2a_i\\left(2x^2-4xb_i+2x^2-d_i^2\\right)\\mathrm{e}^{-\\left(\\frac{x-b_i}{d_i}\\right)^2}}{d_i^4}\\hspace{10mm}i=j$\n",
    "  \n",
    "$\\dfrac{\\partial^2 y}{\\partial b_i \\partial d_j}=\\dfrac{4a_i\\left(b_i-x\\right)\\left(d_i^2-b_i^2+2xb_i-x^2\\right)\\mathrm{e}^{-\\left(\\frac{x-b_i}{d_i}\\right)^2}}{d_i^5}\\hspace{10mm}i=j$\n",
    "  \n",
    "---------\n",
    "$\\dfrac{\\partial^2 y}{\\partial d_i \\partial a_j}=\\dfrac{2\\left(x-b_i\\right)^2\\mathrm{e}^{-\\left(\\frac{x-b_i}{d_i}\\right)^2}}{d_i^3}\\hspace{10mm}i=j$\n",
    "  \n",
    "$\\dfrac{\\partial^2 y}{\\partial d_i \\partial b_j}=\\dfrac{4a_i\\left(b_i-x\\right)\\left(d_i^2-b_i^2+2xb_i-x^2\\right)\\mathrm{e}^{-\\left(\\frac{x-b_i}{d_i}\\right)^2}}{d_i^5}\\hspace{10mm}i=j$\n",
    "  \n",
    "$\\dfrac{\\partial^2 y}{\\partial d_i \\partial d_j}=-\\dfrac{2a_i\\left(x-b_i\\right)^2\\left(3d_i^2-2b_i^2+4xb_i-2x^2\\right)\\mathrm{e}^{-\\left(\\frac{x-b_i}{d_i}\\right)^2}}{d_i^6}\\hspace{10mm}i=j$"
   ]
  },
  {
   "cell_type": "code",
   "execution_count": 107,
   "metadata": {},
   "outputs": [],
   "source": [
    "def basis_functions_hess(w, x):\n",
    "    hess = np.zeros((3*m, 3*m, len(x)))\n",
    "    for i in range(3*m):\n",
    "        if i < m: # a\n",
    "            a = w[i]\n",
    "            b = w[i+m]\n",
    "            d = w[i+2*m]\n",
    "            expon = np.exp(-((x - b) / d)**2)\n",
    "            hess[i, i+m] = (2*(x-b)*expon)/(d**2)\n",
    "            hess[i, i+2*m] = (2*((x-b)**2)*expon)/(d**3)\n",
    "            \n",
    "        elif i < 2*m: # b\n",
    "            a = w[i-m]\n",
    "            b = w[i]\n",
    "            d = w[i+m]\n",
    "            expon = np.exp(-((x - b) / d)**2)\n",
    "            hess[i, i-m] = (2*(x-b)*expon)/(d**2)\n",
    "            hess[i, i] = 2*a*(2*(b**2) - 4*x*b + 2*(x**2) - d**2)*expon/(d**4)\n",
    "            hess[i, i+m] = -4*a*(b-x)*(b**2 - 2*x*b + x**2 - d**2)*expon/(d**5)\n",
    "            \n",
    "        elif i < 3*m: # d\n",
    "            a = w[i-2*m]\n",
    "            b = w[i-m]\n",
    "            d = w[i]\n",
    "            expon = np.exp(-((x - b) / d)**2)\n",
    "            hess[i, i-2*m] = (2*((x-b)**2)*expon)/(d**3)\n",
    "            hess[i, i-m] = -4*a*(x-b)*(d**2 - x**2 + 2*x*b - b**2)*expon/(d**5)\n",
    "            hess[i, i] = -2*a*((x-b)**2)*(3*(d**2) - 2*(x**2) + 4*b*x - 2*(b**2))*expon/(d**6)\n",
    "    \n",
    "    return hess"
   ]
  },
  {
   "cell_type": "markdown",
   "metadata": {},
   "source": [
    "#### Функция ошибки аппроксимации"
   ]
  },
  {
   "cell_type": "markdown",
   "metadata": {},
   "source": [
    "$error = \\sum\\limits_{i=1}^n{\\left(y_i-y_{true_i}\\right)^2}$"
   ]
  },
  {
   "cell_type": "code",
   "execution_count": 108,
   "metadata": {},
   "outputs": [],
   "source": [
    "def error_func(w):\n",
    "    basis = basis_functions(w, x)\n",
    "    error = 0\n",
    "    for i in range(len(y_true)):\n",
    "        error += (basis[i] - y_true[i])**2\n",
    "    return error"
   ]
  },
  {
   "cell_type": "markdown",
   "metadata": {},
   "source": [
    "#### Градиент целевой функции "
   ]
  },
  {
   "cell_type": "markdown",
   "metadata": {},
   "source": [
    "$\\dfrac{\\partial error}{\\partial w_j} = 2\\sum\\limits_{i=1}^n{\\dfrac{\\partial y_i}{\\partial w_j}\\left(y_i-y_{true_i}\\right)}$"
   ]
  },
  {
   "cell_type": "code",
   "execution_count": 109,
   "metadata": {},
   "outputs": [],
   "source": [
    "def error_func_deriv(w):\n",
    "    basis = basis_functions(w, x)\n",
    "    basis_deriv = basis_functions_deriv(w, x)\n",
    "    error_deriv = np.zeros(3*m)\n",
    "    for i in range(3*m):\n",
    "        error_deriv[i] = 2*np.sum((basis - y_true)*basis_deriv[i], axis=0)\n",
    "    return error_deriv"
   ]
  },
  {
   "cell_type": "markdown",
   "metadata": {},
   "source": [
    "#### Матрица Гессе целевой функции "
   ]
  },
  {
   "cell_type": "markdown",
   "metadata": {},
   "source": [
    "$\\dfrac{\\partial error}{\\partial w_j \\partial w_k} = 2\\sum\\limits_{i=1}^n{\\left(\\dfrac{\\partial y_i}{\\partial w_j}\\dfrac{\\partial y_i}{\\partial w_k} + \\dfrac{\\partial^2 y_i}{\\partial w_j \\partial w_k}\\left(y_i-y_{true_i}\\right)\\right)}$"
   ]
  },
  {
   "cell_type": "code",
   "execution_count": 110,
   "metadata": {},
   "outputs": [],
   "source": [
    "def error_func_hess(w):\n",
    "    basis = basis_functions(w, x)\n",
    "    basis_deriv = basis_functions_deriv(w, x)\n",
    "    basis_hess = basis_functions_hess(w, x)\n",
    "    error_hess = np.zeros((3*m, 3*m))\n",
    "    for i in range(3*m):\n",
    "        for j in range(3*m):\n",
    "            error_hess[i,j] = 2*np.sum((basis_deriv[i]*basis_deriv[j] + basis_hess[i,j]*(basis - y_true)), axis=0)\n",
    "    return error_hess"
   ]
  },
  {
   "cell_type": "markdown",
   "metadata": {},
   "source": [
    "#### Задание начального приближения"
   ]
  },
  {
   "cell_type": "code",
   "execution_count": 111,
   "metadata": {},
   "outputs": [
    {
     "name": "stdout",
     "output_type": "stream",
     "text": [
      "Начальные параметры\n",
      "a:   1.000   b:   0.000   d:   2.000\n",
      "a:   1.000   b:   1.000   d:   2.000\n",
      "a:   1.000   b:   1.500   d:   2.000\n"
     ]
    }
   ],
   "source": [
    "m = 3 # number of basis functions\n",
    "a = np.random.normal(loc=0,scale=3,size=m)\n",
    "a = [1.0, 1.0, 1.0]\n",
    "b = np.random.normal(loc=0,scale=1,size=m)\n",
    "b = [0., 1., 1.5]\n",
    "d = np.random.normal(loc=0,scale=1,size=m)\n",
    "d = [2, 2, 2]\n",
    "w = np.concatenate((a,b,d))\n",
    "np.set_printoptions(precision=3, suppress=True)\n",
    "print('Начальные параметры')\n",
    "for i in range(m):\n",
    "    print('a:{:>8.3f}   b:{:>8.3f}   d:{:>8.3f}'.format(w[i], w[i+m], w[i+2*m]))"
   ]
  },
  {
   "cell_type": "code",
   "execution_count": 112,
   "metadata": {},
   "outputs": [
    {
     "name": "stdout",
     "output_type": "stream",
     "text": [
      "Начальная ошибка: 13.990658731298087\n"
     ]
    },
    {
     "data": {
      "image/png": "[encoded data removed]",
      "text/plain": [
       "<Figure size 432x288 with 1 Axes>"
      ]
     },
     "metadata": {},
     "output_type": "display_data"
    }
   ],
   "source": [
    "plt.plot(x, y_true, '--')\n",
    "plt.plot(x, basis_functions(w, x), '.');\n",
    "print('Начальная ошибка:', error_func(w))"
   ]
  },
  {
   "cell_type": "markdown",
   "metadata": {},
   "source": [
    "#### Минимизация методом 0-го порядка"
   ]
  },
  {
   "cell_type": "code",
   "execution_count": 113,
   "metadata": {
    "scrolled": false
   },
   "outputs": [
    {
     "name": "stdout",
     "output_type": "stream",
     "text": [
      "Optimization terminated successfully.\n",
      "         Current function value: 0.054913\n",
      "         Iterations: 1919\n",
      "         Function evaluations: 2729\n",
      "\n",
      "Параметры аппроксимирующей функции после оптимизации\n",
      "a:   2.764   b:   0.000   d:   1.592\n",
      "a:   2.129   b:   2.002   d:   1.154\n",
      "a:   1.052   b:   3.083   d:   0.683\n",
      "Ошибка после минимизации: 0.054912919927395776\n",
      "Wall time: 1.72 s\n"
     ]
    },
    {
     "data": {
      "image/png": "[encoded data removed]",
      "text/plain": [
       "<Figure size 432x288 with 1 Axes>"
      ]
     },
     "metadata": {},
     "output_type": "display_data"
    }
   ],
   "source": [
    "%%time\n",
    "res = minimize(error_func, w, method='Nelder-Mead',options={'maxiter':10000,'disp': True})\n",
    "print('\\nПараметры аппроксимирующей функции после оптимизации')\n",
    "for i in range(m):\n",
    "    print('a:{:>8.3f}   b:{:>8.3f}   d:{:>8.3f}'.format(res.x[i], res.x[i+m], res.x[i+2*m]))\n",
    "print('Ошибка после минимизации:', res.fun)\n",
    "plt.plot(x, y_true, '--')\n",
    "#plt.plot(x, basis_functions(w, x), '.')\n",
    "plt.plot(x, basis_functions(res.x, x));"
   ]
  },
  {
   "cell_type": "markdown",
   "metadata": {},
   "source": [
    "#### Минимизация методом 1-го порядка"
   ]
  },
  {
   "cell_type": "code",
   "execution_count": 114,
   "metadata": {},
   "outputs": [
    {
     "name": "stdout",
     "output_type": "stream",
     "text": [
      "Optimization terminated successfully.\n",
      "         Current function value: 0.004256\n",
      "         Iterations: 152\n",
      "         Function evaluations: 175\n",
      "         Gradient evaluations: 175\n",
      "\n",
      "Параметры аппроксимирующей функции после оптимизации\n",
      "a:   1.040   b:  -0.508   d:   0.998\n",
      "a:   0.281   b:   0.742   d:   1.364\n",
      "a:   2.687   b:   1.695   d:   2.731\n",
      "Ошибка после минимизации: 0.004255611295163136\n",
      "Wall time: 290 ms\n"
     ]
    },
    {
     "data": {
      "image/png": "[encoded data removed]",
      "text/plain": [
       "<Figure size 432x288 with 1 Axes>"
      ]
     },
     "metadata": {},
     "output_type": "display_data"
    }
   ],
   "source": [
    "%%time\n",
    "res = minimize(error_func, w, method='BFGS', jac=error_func_deriv, options={'maxiter':10000, 'disp': True})\n",
    "#res = minimize(error_func, w, method='BFGS', options={'maxiter':10000, 'disp': True})\n",
    "print('\\nПараметры аппроксимирующей функции после оптимизации')\n",
    "for i in range(m):\n",
    "    print('a:{:>8.3f}   b:{:>8.3f}   d:{:>8.3f}'.format(res.x[i], res.x[i+m], res.x[i+2*m]))\n",
    "print('Ошибка после минимизации:', res.fun)\n",
    "plt.plot(x, y_true, '--')\n",
    "#plt.plot(x, basis_functions(w, x), '.')\n",
    "plt.plot(x, basis_functions(res.x, x));"
   ]
  },
  {
   "cell_type": "markdown",
   "metadata": {},
   "source": [
    "#### Минимизация методом 2-го порядка"
   ]
  },
  {
   "cell_type": "code",
   "execution_count": 115,
   "metadata": {},
   "outputs": [
    {
     "name": "stdout",
     "output_type": "stream",
     "text": [
      "Optimization terminated successfully.\n",
      "         Current function value: 0.004256\n",
      "         Iterations: 224\n",
      "         Function evaluations: 259\n",
      "         Gradient evaluations: 482\n",
      "         Hessian evaluations: 224\n",
      "\n",
      "Параметры аппроксимирующей функции после оптимизации\n",
      "a:   1.039   b:  -0.508   d:   0.998\n",
      "a:   0.283   b:   0.740   d:   1.369\n",
      "a:   2.685   b:   1.695   d:   2.732\n",
      "Ошибка после минимизации: 0.0042556260704781825\n",
      "Wall time: 1.19 s\n"
     ]
    },
    {
     "data": {
      "image/png": "[encoded data removed]",
      "text/plain": [
       "<Figure size 432x288 with 1 Axes>"
      ]
     },
     "metadata": {},
     "output_type": "display_data"
    }
   ],
   "source": [
    "%%time\n",
    "res = minimize(error_func, w, method='Newton-CG', jac=error_func_deriv, hess=error_func_hess, options={'maxiter':10000, 'disp': True})\n",
    "print('\\nПараметры аппроксимирующей функции после оптимизации')\n",
    "for i in range(m):\n",
    "    print('a:{:>8.3f}   b:{:>8.3f}   d:{:>8.3f}'.format(res.x[i], res.x[i+m], res.x[i+2*m]))\n",
    "print('Ошибка после минимизации:', res.fun)\n",
    "plt.plot(x, y_true, '--')\n",
    "#plt.plot(x, basis_functions(w, x), '.')\n",
    "plt.plot(x, basis_functions(res.x, x));"
   ]
  },
  {
   "cell_type": "markdown",
   "metadata": {},
   "source": [
    "#### Минимизация с ограничениями"
   ]
  },
  {
   "cell_type": "code",
   "execution_count": 116,
   "metadata": {},
   "outputs": [
    {
     "name": "stderr",
     "output_type": "stream",
     "text": [
      "C:\\ProgramData\\Anaconda3\\lib\\site-packages\\ipykernel_launcher.py:4: RuntimeWarning: divide by zero encountered in true_divide\n",
      "  after removing the cwd from sys.path.\n"
     ]
    },
    {
     "name": "stdout",
     "output_type": "stream",
     "text": [
      "Optimization terminated successfully.    (Exit mode 0)\n",
      "            Current function value: 0.00495653540318902\n",
      "            Iterations: 37\n",
      "            Function evaluations: 419\n",
      "            Gradient evaluations: 37\n",
      "\n",
      "Параметры аппроксимирующей функции после оптимизации\n",
      "a:   0.932   b:  -0.496   d:   0.977\n",
      "a:   1.677   b:   0.991   d:   2.294\n",
      "a:   1.427   b:   2.454   d:   3.000\n",
      "Wall time: 279 ms\n"
     ]
    },
    {
     "data": {
      "image/png": "[encoded data removed]",
      "text/plain": [
       "<Figure size 432x288 with 1 Axes>"
      ]
     },
     "metadata": {},
     "output_type": "display_data"
    }
   ],
   "source": [
    "%%time\n",
    "b1 = (0.0,2.0)\n",
    "b2 = (-3,3)\n",
    "b3 = (0.0,3.0)\n",
    "bnds = (b1, b1, b1, b2, b2, b2, b3, b3, b3)\n",
    "res = minimize(error_func,w,method='SLSQP',\\\n",
    "                    bounds=bnds, options={'maxiter':10000, 'disp': True})\n",
    "\n",
    "print('\\nПараметры аппроксимирующей функции после оптимизации')\n",
    "for i in range(m):\n",
    "    print('a:{:>8.3f}   b:{:>8.3f}   d:{:>8.3f}'.format(res.x[i], res.x[i+m], res.x[i+2*m]))\n",
    "plt.plot(x, y_true, '--')\n",
    "plt.plot(x, basis_functions(res.x, x))"
   ]
  },
  {
   "cell_type": "code",
   "execution_count": null,
   "metadata": {},
   "outputs": [],
   "source": []
  },
  {
   "cell_type": "code",
   "execution_count": null,
   "metadata": {},
   "outputs": [],
   "source": []
  }
 ],
 "metadata": {
  "kernelspec": {
   "display_name": "Python 3",
   "language": "python",
   "name": "python3"
  },
  "language_info": {
   "codemirror_mode": {
    "name": "ipython",
    "version": 3
   },
   "file_extension": ".py",
   "mimetype": "text/x-python",
   "name": "python",
   "nbconvert_exporter": "python",
   "pygments_lexer": "ipython3",
   "version": "3.6.5"
  }
 },
 "nbformat": 4,
 "nbformat_minor": 2
}
