{
 "cells": [
  {
   "cell_type": "markdown",
   "metadata": {},
   "source": [
    "# Проверка статистических гипотез. Параметрические критерии.\n",
    "## Методика проверки статистических гипотез\n",
    "\n",
    "#### 1. Сформулировать нулевую гипотезу $H_0$ и альтернативную - $H_1$ (Гипотеза $H_0$ формулируется исходя из требований прикладной задачи. Иногда альтернатива не формулируется в явном виде; тогда предполагается, что $H_1$ означает «не $H_0$»).\n",
    "#### 2. Сформулировать статистические допущения о распределении выборки.\n",
    "#### 3. Выбрать тестовую статистику, которая отражает характер допущений.\n",
    "#### 4. Зафиксировать уровень значимости $1 \\le \\alpha \\le 0$.\n",
    "#### 5. Рассчитать наблюдаемое значение выбранной статистики.\n",
    "#### 6. Сдалать вывод о гипотезе $H_0$:\n",
    "   6.1 На основе критической области $\\Omega_\\alpha$\n",
    "   \n",
    "   6.2 На основе достигаемого уровня значимости (p-value)\n"
   ]
  },
  {
   "cell_type": "markdown",
   "metadata": {},
   "source": [
    "## Критические области\n",
    "Пусть $x_\\alpha$ - квантиль уровня-$\\alpha$ функции распределения $F$ статистики $T$: $F(x_\\alpha) = \\alpha$. Здесь $F(t) = P(T<t)$\n",
    "1. Левосторонняя критическая область:\n",
    "\n",
    "Определяется интервалом: $\\Omega_\\alpha \\in \\{-\\infty, x_\\alpha \\}$\n",
    "\n",
    "p-value: $P(T) = F(T)$\n",
    "\n",
    "2. Правосторонняя критическая область:\n",
    "\n",
    "Определяется интервалом: $\\Omega_\\alpha \\in \\{x_{1-\\alpha}, \\infty \\}$\n",
    "\n",
    "p-value: $P(T) = 1-F(T)$\n",
    "\n",
    "3. Двухсторонняя критическая область:\n",
    "\n",
    "Определяется интервалом: $\\Omega_\\alpha \\in \\{-\\infty, x_{\\alpha/2} \\}U\\{x_{1-\\alpha/2}, \\infty \\}$\n",
    "\n",
    "p-value: $P(T) = min\\{2F(T), 2(1-F(T))\\}$"
   ]
  },
  {
   "cell_type": "markdown",
   "metadata": {},
   "source": [
    "## Ошибки первого и второго рода\n",
    "\n",
    "1. Ошибка первого рода («ложная тревога»)  — когда нулевая гипотеза отвергается, хотя на самом деле она верна. Вероятность ошибки первого рода:$$\\alpha = P\\{T \\in \\Omega_\\alpha | H_0\\}$$\n",
    "2. Ошибка второго рода («пропуск цели»)  — когда нулевая гипотеза принимается, хотя на самом деле она не верна. Вероятность ошибки второго рода:$$\\beta = P\\{T \\notin \\Omega_\\alpha | H_1\\}$$\n",
    "Мощность критерия $1-\\beta(H) = P\\{T \\in \\Omega_\\alpha | H\\}$ - вероятность отклонить гипотезу $H_0$, если на самом деле верна альтернативная гипотеза $H$. (Мощность критерия является числовой функцией от альтернативной гипотезы $H$)"
   ]
  },
  {
   "cell_type": "code",
   "execution_count": 18,
   "metadata": {},
   "outputs": [
    {
     "data": {
      "image/png": "[encoded data removed]",
      "text/plain": [
       "<Figure size 600x400 with 1 Axes>"
      ]
     },
     "metadata": {},
     "output_type": "display_data"
    }
   ],
   "source": [
    "import numpy as np\n",
    "import scipy.stats as st\n",
    "import matplotlib as mpl\n",
    "import matplotlib.pyplot as plt\n",
    "\n",
    "default_dpi = mpl.rcParamsDefault['figure.dpi']\n",
    "factor = 1\n",
    "mpl.rcParams['figure.dpi'] = default_dpi * factor\n",
    "\n",
    "X = np.random.randn(400)\n",
    "\n",
    "X = 5.0+X*2\n",
    "\n",
    "plt.hist(X, bins=10, density = 1);"
   ]
  },
  {
   "cell_type": "markdown",
   "metadata": {},
   "source": [
    "# T-test\n",
    "\n",
    "Дано: $X_1, ..., X_n \\sim N$ \n",
    "\n",
    "$$H_0: \\mu = a $$ $$H_1: \\mu > a$$\n",
    "\n",
    "$$\\frac{\\sqrt{n}*(\\bar{X}-a)}{S} \\sim t(n-1)$$\n"
   ]
  },
  {
   "cell_type": "code",
   "execution_count": 19,
   "metadata": {},
   "outputs": [
    {
     "name": "stdout",
     "output_type": "stream",
     "text": [
      "400\n",
      "5.003697158571927\n",
      "1.9697003309636367\n",
      "________________________________________\n",
      "Stat =  -5.039374097939728\n",
      "\n",
      "Crit =  1.6486815335554057\n",
      "p-value =  0.9999996452550628\n"
     ]
    }
   ],
   "source": [
    "print(len(X))\n",
    "X_mean = np.mean(X);\n",
    "print(X_mean)\n",
    "Std = np.std(X);\n",
    "print(Std)\n",
    "print('_'*40)\n",
    "\n",
    "alpha = 0.05;\n",
    "a = 5.5;\n",
    "\n",
    "St = np.sqrt(len(X))*(X_mean-a)/Std\n",
    "print('Stat = ', St)\n",
    "Crit = st.t.ppf(0.95, len(X)-1)\n",
    "print('\\nCrit = ', Crit)\n",
    "print('p-value = ', st.t.sf(St, len(X)-1))\n"
   ]
  },
  {
   "cell_type": "markdown",
   "metadata": {},
   "source": [
    "$$H_0: \\mu = a $$ $$H_1: \\mu < a$$"
   ]
  },
  {
   "cell_type": "code",
   "execution_count": 20,
   "metadata": {},
   "outputs": [
    {
     "name": "stdout",
     "output_type": "stream",
     "text": [
      "Сrit =  -1.6486815335554064\n",
      "p-value =  3.5474493721580004e-07\n"
     ]
    }
   ],
   "source": [
    "Crit = st.t.ppf(0.05, len(X)-1)\n",
    "print('Сrit = ', Crit)\n",
    "print('p-value = ', st.t.cdf(St, len(X)-1))"
   ]
  },
  {
   "cell_type": "markdown",
   "metadata": {},
   "source": [
    "$$H_0: \\mu = a $$ $$H_1: \\mu \\neq a$$"
   ]
  },
  {
   "cell_type": "code",
   "execution_count": 21,
   "metadata": {},
   "outputs": [
    {
     "name": "stdout",
     "output_type": "stream",
     "text": [
      "Сrit = [ -1.9659272959208094 , 1.965927295920809 ]\n",
      "p-value =  7.094898744316001e-07\n"
     ]
    }
   ],
   "source": [
    "\n",
    "print('Сrit = [', st.t.ppf(0.025, len(X)-1),',',st.t.ppf(0.975, len(X)-1),']')\n",
    "\n",
    "print('p-value = ', min(2.0*st.t.cdf(St, len(X)-1), 2.0*(1.0-st.t.cdf(St, len(X)-1))))\n"
   ]
  },
  {
   "cell_type": "code",
   "execution_count": 22,
   "metadata": {},
   "outputs": [
    {
     "data": {
      "text/plain": [
       "Ttest_1sampResult(statistic=-5.033070938377323, pvalue=7.317849440819529e-07)"
      ]
     },
     "execution_count": 22,
     "metadata": {},
     "output_type": "execute_result"
    }
   ],
   "source": [
    "st.ttest_1samp(X, a)"
   ]
  },
  {
   "cell_type": "code",
   "execution_count": 23,
   "metadata": {},
   "outputs": [
    {
     "data": {
      "text/plain": [
       "(4.810082776300644, 5.19731154084321)"
      ]
     },
     "execution_count": 23,
     "metadata": {},
     "output_type": "execute_result"
    }
   ],
   "source": [
    "#Построим доверительный интервал\n",
    "X_mean-(Std*st.t.ppf(0.975, len(X)-1))/np.sqrt(len(X)), X_mean+(Std*st.t.ppf(0.975, len(X)-1))/np.sqrt(len(X))"
   ]
  },
  {
   "cell_type": "markdown",
   "metadata": {},
   "source": [
    "## Двувыборочный случай\n",
    "\n",
    "### Критерий сдвига\n",
    "\n",
    "1. Неизвестная разница мат. ожиданий при неизвестных, но не равных дисперсиях\n",
    "\n",
    "Дано: $$X_1, ..., X_{n_1} \\sim N(\\mu_1, \\sigma_1^2)$$\n",
    "$$Y_1, ..., Y_{n_2} \\sim N(\\mu_2, \\sigma_2^2)$$\n",
    "$X$ и $Y$  - независимы, $\\sigma_1 != \\sigma_2$ \n",
    "$$H_0: \\mu_1-\\mu_2 = \\theta $$ $$H_1: \\mu_1-\\mu_2 \\neq \\theta$$\n",
    "Центральная статистика имеет вид: $$\\frac{\\bar{X}-\\bar{Y}-\\theta}{\\sqrt{S_1^2/n_1+S_2^2/n_2}} \\sim t(k)$$.\n",
    "$$k=\\frac{(s_1^2/n_1+s_2^2/n_2)^2}{(s_1^2/n_1)^2/(n_1-1)+(s_2^2/n_2)^2/(n_2-1)}$$\n"
   ]
  },
  {
   "cell_type": "code",
   "execution_count": 24,
   "metadata": {
    "scrolled": true
   },
   "outputs": [
    {
     "data": {
      "image/png": "[encoded data removed]",
      "text/plain": [
       "<Figure size 600x400 with 1 Axes>"
      ]
     },
     "metadata": {},
     "output_type": "display_data"
    }
   ],
   "source": [
    "def df(X_1, X_2):\n",
    "    n_1 = len(X_1);\n",
    "    n_2 = len(X_2);\n",
    "    s_1 = (sum((X_1-np.mean(X_1))**2))/(n_1-1.0)#np.var(X_1);\n",
    "    s_2 = (sum((X_2-np.mean(X_2))**2))/(n_2-1.0)#np.var(X_2);\n",
    "    \n",
    "    k = (((s_1/n_1)+(s_2/n_2))**2)/((((s_1/n_1)**2)/(n_1-1)) + (((s_2/n_2)**2)/(n_2-1)));\n",
    "    \n",
    "    return k;\n",
    "\n",
    "Y = np.random.randn(22000);\n",
    "X = np.random.randn(17000);\n",
    "X = 4.0*X+1.0\n",
    "\n",
    "plt.hist(Y, bins=10, density = 1);\n",
    "plt.hist(X, bins=10, density = 1);\n"
   ]
  },
  {
   "cell_type": "code",
   "execution_count": 25,
   "metadata": {},
   "outputs": [
    {
     "name": "stdout",
     "output_type": "stream",
     "text": [
      "x_mean =  0.966151942828776 S1^2 =  16.189665865566578 n1 =  17000\n",
      "y_mean =  -0.004429574926374957 S2^2 =  0.9957739127169302 n2 =  22000\n",
      "St =  -0.9314144485496871\n",
      "k =  18620\n",
      "________________________________________\n",
      "Сrit1 =  -1.9600913971513279\n",
      "Сrit2 =  1.9600913971513274\n"
     ]
    }
   ],
   "source": [
    "theta = 1.0;\n",
    "\n",
    "x_mean = np.mean(X);\n",
    "S_1 = (sum((X-np.mean(X))**2))/(len(X)-1.0);\n",
    "print('x_mean = ', x_mean, 'S1^2 = ', S_1, 'n1 = ', len(X));\n",
    "\n",
    "y_mean = np.mean(Y);\n",
    "S_2 = (sum((Y-np.mean(Y))**2))/(len(Y)-1.0);\n",
    "print('y_mean = ', y_mean, 'S2^2 = ', S_2, 'n2 = ', len(Y));\n",
    "\n",
    "St = (x_mean-y_mean-theta)/np.sqrt((S_1/len(X))+(S_2/len(Y)))\n",
    "print('St = ', St);\n",
    "\n",
    "k = int(df(X, Y));\n",
    "print('k = ', k);\n",
    "\n",
    "print('_'*40);\n",
    "print('Сrit1 = ', st.t.ppf(0.025, k));\n",
    "print('Сrit2 = ', st.t.ppf(0.975, k));"
   ]
  },
  {
   "cell_type": "markdown",
   "metadata": {},
   "source": [
    "2. Неизвестная разница мат. ожиданий при неизвестных, но равных дисперсиях\n",
    "\n",
    "Дано: $$X_1, ..., X_{n_1} \\sim N(\\mu_1, \\sigma_1^2)$$\n",
    "$$Y_1, ..., Y_{n_2} \\sim N(\\mu_2, \\sigma_2^2)$$\n",
    "$X$ и $Y$  - независимы, $\\sigma_1 = \\sigma_2$ \n",
    "$$H_0: \\mu_1-\\mu_2 = \\theta $$ $$H_1: \\mu_1-\\mu_2 \\neq \\theta$$\n",
    "Центральная статистика имеет вид: $$\\frac{\\bar{X}-\\bar{Y}-\\theta}{S_x\\sqrt{1/n_1+1/n_2}} \\sim t(n_1+n_2-2)$$.\n",
    "$$S_x^2=\\frac{(s_1^2(n_1-1)+s_2^2(n_2-1))}{n_1+n_2-2}$$"
   ]
  },
  {
   "cell_type": "code",
   "execution_count": null,
   "metadata": {},
   "outputs": [],
   "source": []
  },
  {
   "cell_type": "markdown",
   "metadata": {},
   "source": [
    "## Проверка гипотез о равенстве дисперсий\n",
    "\n",
    "Дано: $$X_1, ..., X_n \\sim N(\\mu_1, \\sigma_1^2)$$\n",
    "$$Y_1, ..., Y_m \\sim N(\\mu_2, \\sigma_2^2)$$\n",
    "$X$ и $Y$  - независимы, требуется проверить гипотезу $H_0: \\sigma_1 = \\sigma_2$\n",
    "\n",
    "Сначала считаем выборочные дисперсии:\n",
    "$$\\widehat{\\sigma_1}=\\frac{1}{n-1}*\\sum_{i=1}^{n}(X_i-\\bar{X})^2$$\n",
    "$$\\widehat{\\sigma_2}=\\frac{1}{m-1}*\\sum_{i=1}^{m}(Y_i-\\bar{Y})^2$$\n",
    "\n",
    "Cтатистика: $$F=\\widehat{\\sigma_1}/\\widehat{\\sigma_2} \\sim F(n-1, m-1)$$"
   ]
  },
  {
   "cell_type": "code",
   "execution_count": 26,
   "metadata": {},
   "outputs": [
    {
     "name": "stdout",
     "output_type": "stream",
     "text": [
      "x_mean =  -0.04126194695395388 S1^2 =  1.0040582279783055 n1 =  170\n",
      "y_mean =  0.09819243794530466 S2^2 =  0.9013577920583845 n2 =  220\n",
      "St =  0.8977146613033482\n",
      "________________________________________\n",
      "Сrit1 =  0.7502829498612917\n",
      "Сrit2 =  1.3258009925480954\n"
     ]
    }
   ],
   "source": [
    "Y = np.random.randn(220);\n",
    "X = np.random.randn(170);\n",
    "X = 1*X\n",
    "\n",
    "\n",
    "x_mean = np.mean(X);\n",
    "S_1 = (sum((X-np.mean(X))**2))/(len(X)-1.0);\n",
    "n = len(X);\n",
    "print('x_mean = ', x_mean, 'S1^2 = ', S_1, 'n1 = ', n);\n",
    "\n",
    "y_mean = np.mean(Y);\n",
    "S_2 = (sum((Y-np.mean(Y))**2))/(len(Y)-1.0);\n",
    "m = len(Y);\n",
    "print('y_mean = ', y_mean, 'S2^2 = ', S_2, 'n2 = ', m);\n",
    "\n",
    "St = S_2/S_1;\n",
    "\n",
    "print('St = ', St)\n",
    "\n",
    "print('_'*40);\n",
    "print('Сrit1 = ', st.f.ppf(0.025, n-1, m-1));\n",
    "print('Сrit2 = ', st.f.ppf(0.975, n-1, m-1));\n"
   ]
  },
  {
   "cell_type": "markdown",
   "metadata": {},
   "source": [
    "# Критерии согласия."
   ]
  },
  {
   "cell_type": "markdown",
   "metadata": {},
   "source": [
    "## Критерий соласия $\\chi^2$ Пирсона"
   ]
  },
  {
   "cell_type": "code",
   "execution_count": 27,
   "metadata": {
    "scrolled": true
   },
   "outputs": [
    {
     "data": {
      "image/png": "[encoded data removed]",
      "text/plain": [
       "<Figure size 600x400 with 1 Axes>"
      ]
     },
     "metadata": {},
     "output_type": "display_data"
    }
   ],
   "source": [
    "Y = np.random.randn(1000);\n",
    "plt.hist(Y, bins=10, density = 1);"
   ]
  },
  {
   "cell_type": "code",
   "execution_count": 28,
   "metadata": {
    "scrolled": false
   },
   "outputs": [
    {
     "name": "stdout",
     "output_type": "stream",
     "text": [
      "1000\n",
      "[-2.99114721 -2.55209735 -2.11304749 -1.67399762 -1.23494776 -0.7958979\n",
      " -0.35684804  0.08220182  0.52125168  0.96030154  1.3993514   1.83840126\n",
      "  2.27745112  2.71650098  3.15555084]\n",
      "[  5.   7.  22.  65. 102. 150. 183. 169. 146.  82.  38.  19.   6.   6.]\n",
      "1000.0\n",
      "[  3.96417246  11.94452204  29.76718118  61.35943954 104.62071711\n",
      " 147.55709378 172.15410192 166.14738491 132.64399127  87.59792141\n",
      "  47.852167    21.62199973   8.08085025   2.49782328]\n",
      "\n",
      " Power_divergenceResult(statistic=14.893706317592478, pvalue=0.3140354037041367) \n",
      " ________________________________________\n",
      "Stat =  14.893706317592478\n",
      "Сrit1 =  5.628726103039734\n",
      "Сrit2 =  26.11894804503737\n"
     ]
    }
   ],
   "source": [
    "k = 15\n",
    "N = len(Y)\n",
    "print(N)\n",
    "\n",
    "grid = np.linspace(min(Y), max(Y), k)\n",
    "print(grid)\n",
    "\n",
    "#строим статистический ряд\n",
    "f_obs = np.zeros(k-1)\n",
    "\n",
    "for i in range(k-1):\n",
    "    for j in range(N):\n",
    "        if Y[j] == grid[i] and i == 0:\n",
    "            f_obs[i] = f_obs[i] + 1.0\n",
    "        elif (Y[j] > grid[i] and Y[j] <= grid[i+1]):\n",
    "            f_obs[i] = f_obs[i] + 1.0\n",
    "            \n",
    "print(f_obs)\n",
    "#f_obs =f_obs/N;\n",
    "#print(f_obs)\n",
    "print(np.sum(f_obs));\n",
    "\n",
    "#for i in range(k-1):\n",
    "#    x_i[i] = grid[i+1] - grid[i];\n",
    "\n",
    "    \n",
    "f_exp = np.zeros(k-1);\n",
    "\n",
    "\n",
    "for i in range(k-1):\n",
    "    f_exp[i] = N*(st.norm.cdf(grid[i+1]) - st.norm.cdf(grid[i]));#z.cfd(grid[i+1]) - z.cfd(grid[i])\n",
    " \n",
    "print(f_exp)\n",
    "\n",
    "print('\\n',st.chisquare(f_obs, f_exp), '\\n', '_'*40)\n",
    "\n",
    "St = 0.0;\n",
    "\n",
    "for i in range(k-1):\n",
    "    St = St + ((f_obs[i]-f_exp[i])**2)/f_exp[i]\n",
    "\n",
    "print('Stat = ', St)\n",
    "print('Сrit1 = ', st.chi2.ppf(0.025, k-1))\n",
    "print('Сrit2 = ', st.chi2.ppf(0.975, k-1))\n",
    "\n"
   ]
  },
  {
   "cell_type": "markdown",
   "metadata": {},
   "source": [
    "## Критерий нормальности Шапиро-Уилки (Shapiro-Wilk)"
   ]
  },
  {
   "cell_type": "code",
   "execution_count": 29,
   "metadata": {},
   "outputs": [
    {
     "data": {
      "text/plain": [
       "(0.9981881380081177, 0.37055283784866333)"
      ]
     },
     "execution_count": 29,
     "metadata": {},
     "output_type": "execute_result"
    }
   ],
   "source": [
    "#X = np.random.rand(5000);\n",
    "#X = np.random.randn(50);\n",
    "st.shapiro(Y)"
   ]
  },
  {
   "cell_type": "markdown",
   "metadata": {},
   "source": [
    "## Статистическая проверка наличия корреляции. Коэффициент корреляции Пирсона"
   ]
  },
  {
   "cell_type": "markdown",
   "metadata": {},
   "source": [
    "$$r_{xy} = \\frac {\\sum_{i=1}^{m} \\left( x_i-\\bar{x} \\right)\\left( y_i-\\bar{y} \\right)}{\\sqrt{\\sum_{i=1}^{m} \\left( x_i-\\bar{x} \\right)^2 \\sum_{i=1}^{m} \\left( y_i-\\bar{y} \\right)^2}} = \\frac {cov(x,y)}{\\sqrt{s_x^2 s_y^2}}$$\n",
    "\n"
   ]
  },
  {
   "cell_type": "code",
   "execution_count": 30,
   "metadata": {},
   "outputs": [
    {
     "name": "stdout",
     "output_type": "stream",
     "text": [
      "(-0.021303716804175248, 0.13201724074254148)\n",
      "(1.0, 0.0)\n"
     ]
    },
    {
     "data": {
      "image/png": "[encoded data removed]",
      "text/plain": [
       "<Figure size 600x400 with 1 Axes>"
      ]
     },
     "metadata": {},
     "output_type": "display_data"
    },
    {
     "data": {
      "image/png": "[encoded data removed]",
      "text/plain": [
       "<Figure size 600x400 with 1 Axes>"
      ]
     },
     "metadata": {},
     "output_type": "display_data"
    }
   ],
   "source": [
    "X = np.random.randn(5000);\n",
    "Y = np.random.randn(5000);\n",
    "\n",
    "print(st.pearsonr(X, Y))\n",
    "plt.plot(X, Y, '*');\n",
    "\n",
    "\n",
    "Y = 2.0*X + 17\n",
    "\n",
    "print(st.pearsonr(X, Y))\n",
    "plt.figure()\n",
    "plt.plot(X, Y, '*');"
   ]
  },
  {
   "cell_type": "markdown",
   "metadata": {},
   "source": [
    "$$H_0: r_{xy} = 0$$\n",
    "\n",
    "$$T = \\frac{r_{xy}\\sqrt{n-2}}{\\sqrt{1-r^2_{xy}}} \\sim t_{n-2}$$ $T \\in [t_\\alpha,t_{1-\\alpha}]$"
   ]
  },
  {
   "cell_type": "code",
   "execution_count": null,
   "metadata": {},
   "outputs": [],
   "source": []
  }
 ],
 "metadata": {
  "kernelspec": {
   "display_name": "Python 3",
   "language": "python",
   "name": "python3"
  },
  "language_info": {
   "codemirror_mode": {
    "name": "ipython",
    "version": 3
   },
   "file_extension": ".py",
   "mimetype": "text/x-python",
   "name": "python",
   "nbconvert_exporter": "python",
   "pygments_lexer": "ipython3",
   "version": "3.6.5"
  }
 },
 "nbformat": 4,
 "nbformat_minor": 2
}
