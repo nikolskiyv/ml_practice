{
 "cells": [
  {
   "cell_type": "code",
   "execution_count": 3,
   "metadata": {},
   "outputs": [],
   "source": [
    "import numpy as np\n",
    "import random\n",
    "import scipy.stats as st\n",
    "import matplotlib as mpl\n",
    "import matplotlib.pyplot as plt"
   ]
  },
  {
   "cell_type": "markdown",
   "metadata": {},
   "source": [
    "### Интервальные оценки\n",
    "\n"
   ]
  },
  {
   "cell_type": "markdown",
   "metadata": {},
   "source": [
    "Квантиль уровня-$\\alpha$ $$F(x_\\alpha) = \\alpha$$\n",
    "\n",
    "Пусть есть выборка $X_1, X_2, ... , X_n$ из распределения $F(X, \\theta)$, $\\theta \\in \\Theta \\subset R^1$. Говорят, что для параметра $\\Theta$ построен доверительный интервал уровня надежности $1-\\alpha$, где $0 < \\alpha < 1$ и найдены такие статистики $T_1(X_1, ..., X_n)$ и $T_2(X_1, ..., X_n)$, что  $T_1(X_1, ..., X_n) < T_2(X_1, ..., X_n)$ и $P(T_1(X_1, ..., X_n) < \\theta < T_2(X_1, ..., X_n)) = 1 - \\alpha$,\n",
    "Интервал со случайными концами $(\\ T_1(X_1, ..., X_n), T_2(X_1, ..., X_n)\\ )$ называется доверительным интервалом для параметра $\\theta$ уровня надежности $1-\\alpha$\n",
    "\n",
    "Случайная функция $G(X,\\theta)$ называется центральной статистикой, если она удовлетворяет 2 условиям:\n",
    "    $$1)$$$G(X,\\theta)$ строго монотонна и непрерывна по $\\theta$ \n",
    "    $$2)$$ Функция распределения $G$ $F_{G}$ не зависит от $\\theta$. Т.е. $F_{G}(X)$\n",
    "\n",
    "Дальнейший ход определения доверительных интервалов для параметра $\\theta$ будет заключаться в построении неравенства \n",
    "$P(F_{G}(X)<Z_{1-\\alpha})=1-\\alpha$, либо $P(F_{G}(X)>Z_{\\alpha})=1-\\alpha$, либо $P(Z_{\\alpha/2}<F_{G}(X)<Z_{1-\\alpha/2})=1-\\alpha$ (в зависимости от того, какой тип доверительного интервала (правый односторонний, левый односторонний или двусторонний соответственно) нам нужен) и преобразовании его к виду из определения доверительного интервала с целью нахождения его границ. Здесь $Z_\\alpha$ - квартиль уровня $\\alpha$ распределения $F_{G}(X)$."
   ]
  },
  {
   "cell_type": "markdown",
   "metadata": {},
   "source": [
    "### Одновыборочный случай"
   ]
  },
  {
   "cell_type": "markdown",
   "metadata": {},
   "source": [
    "### 1. Неизвестное мат. ожидание при известной дисперсии\n",
    "Дано: $X_1, ..., X_n \\sim N(\\theta, \\sigma^2)$\n",
    "\n",
    "В качестве оценки для мат. ожидания будем использовать выборочное среднее: $\\widehat{\\theta} = 1/n * \\sum_{i=0}^{n} X_i = \\bar{X}$\n",
    "\n",
    "\n",
    "центральная статистика $$\\frac{(\\widehat{\\theta} - \\theta)*\\sqrt{n}}{\\sigma} \\sim N(0, 1)$$\n",
    "Тогда доверительный интервал можно построить след. образом: $$P(Z_{\\alpha/2}<\\frac{(\\widehat{\\theta} - \\theta)*\\sqrt{n}}{\\sigma}<Z_{1-\\alpha/2})=1-\\alpha$$, тогда в силу $z_{\\alpha/2} = - z_{1-\\alpha/2}$ для нормального распределения, получаем\n",
    "$$P(\\widehat{\\theta} - \\frac{Z_{1-\\alpha/2}*\\sigma}{\\sqrt{n}} <\\theta<\\frac{Z_{1-\\alpha/2}*\\sigma}{\\sqrt{n}} + \\widehat{\\theta} )=1-\\alpha$$\n",
    "Тогда доверительный интервал для $\\sigma$ в соответствии с определением дов. интервала определяется:\n",
    "$$(\\ \\bar{X} - \\frac{Z_{1-\\alpha/2}*\\sigma}{\\sqrt{n}}\\ ,\\ \\bar{X} + \\frac{Z_{1-\\alpha/2}*\\sigma}{\\sqrt{n}}\\ )$$"
   ]
  },
  {
   "cell_type": "markdown",
   "metadata": {},
   "source": [
    "### 4. Неизвестное мат. ожидание при неизвестной дисперсии\n",
    "\n",
    "Дано: $X_1, ..., X_n \\sim N(\\theta_1, \\theta_2^2)$\n",
    "\n",
    "Построим оценку для дисперсии. Возьмем выборочную дисперсию: $$\\widehat{\\theta}^2=S^2=1/n*\\sum_{i=1}^{n}(X_i-\\mu)^2$$\n",
    "\n",
    "$$P(t_{\\alpha/2, n-1}<\\frac{(\\bar{X} - \\theta_1)*\\sqrt{n}}{S}<t_{1-\\alpha/2, n-1})=1-\\alpha$$\n",
    "Тогда доверительный интервал будет задаваться: \n",
    "$$(\\bar{X} - \\frac{t_{1-\\alpha/2, n-1}*S}{\\sqrt{n}}, \\frac{t_{1-\\alpha/2, n-1}*S}{\\sqrt{n}} + \\bar{X} )$$"
   ]
  },
  {
   "cell_type": "markdown",
   "metadata": {},
   "source": [
    "### 2. Неизвестная дисперсия при известном мат. ожидании\n",
    "\n",
    "Дано: $X_1, ..., X_n \\sim N(\\mu, \\theta_2^2)$\n",
    "\n",
    "Возьмем выборочную дисперсию: $$\\widehat{\\theta}^2=S^2=1/n*\\sum_{i=1}^{n}(X_i-\\mu)^2$$\n",
    "Отнормируем слагаемые на среднеквадратичное отклонение и умножим сумму на n, тогда получим след. статистику: $$\\sum_{i=1}^{n}(\\frac{(X_i-\\mu)}{\\theta_2})^2 \\sim \\chi^2(n)$$, где $n$ - кол-во степеней свободы распределения $\\chi^2$\n",
    "\n",
    "Данная статистика будет являться центральной статистикой (по определению). Соответственно, можем найти границы доверительного интервала для $\\theta_2$. Для этого используем неравенство:\n",
    "$$P(\\chi^2_{\\alpha/2, n} < \\sum_{i=1}^{n}(\\frac{(X_i-\\mu)}{\\theta_2})^2 < \\chi^2_{1-\\alpha/2, n})=1-\\alpha$$, где $\\chi^2_{\\alpha, n}$ - квантиль уровня $\\alpha$ распределения $\\chi^2$ с $n$ степенями свободы.\n",
    "$$(\\frac{\\sum_{i=1}^{n}(X_i-\\mu)^2}{\\chi^2_{1-\\alpha/2, n}},\\ \\frac{\\sum_{i=1}^{n}(X_i-\\mu)^2}{\\chi^2_{\\alpha/2, n}})$$"
   ]
  },
  {
   "cell_type": "markdown",
   "metadata": {},
   "source": [
    "### 3. Неизвестная дисперсия при неизвестном мат. ожидании\n",
    "\n",
    "Дано: $X_1, ..., X_n \\sim N(\\theta_1, \\theta_2^2)$\n",
    "\n",
    "$$(\\frac{\\sum_{i=1}^{n}(X_i-\\bar{X})^2}{\\chi^2_{1-\\alpha/2, n-1}},\\ \\frac{\\sum_{i=1}^{n}(X_i-\\bar{X})^2}{\\chi^2_{\\alpha/2, n-1}})$$"
   ]
  },
  {
   "cell_type": "markdown",
   "metadata": {},
   "source": [
    "**Работа с данными:** https://www2.stat.duke.edu/courses/Spring01/sta114/data/andrews.html (7. Stanford Heart Transplant Data)"
   ]
  },
  {
   "cell_type": "code",
   "execution_count": 4,
   "metadata": {},
   "outputs": [
    {
     "name": "stdout",
     "output_type": "stream",
     "text": [
      "(184, 8)\n"
     ]
    }
   ],
   "source": [
    "#наиболее простой способ считать данные из таблицы \n",
    "Z = np.loadtxt('T07.1');\n",
    "print(Z.shape)"
   ]
  },
  {
   "cell_type": "code",
   "execution_count": 5,
   "metadata": {
    "scrolled": true
   },
   "outputs": [
    {
     "name": "stdout",
     "output_type": "stream",
     "text": [
      "184.0\n",
      "41.09239130434783\n",
      "41.09239130434783\n",
      "<class 'list'>\n"
     ]
    }
   ],
   "source": [
    "class DataSet(object):\n",
    "    \n",
    "    def __init__(self, id, day, life, age, titr):\n",
    "        \"\"\"Constructor\"\"\"\n",
    "        self.id = id\n",
    "        self.day = day\n",
    "        self.life = life\n",
    "        self.age = age\n",
    "        self.titr = titr\n",
    "\n",
    "\n",
    "FILE = open('T07.1', 'r')\n",
    "FILE.seek(0)\n",
    "\n",
    "n = sum(1 for line in FILE);\n",
    "FILE.seek(0)\n",
    "\n",
    "DS = [DataSet(0,0, 0, 0, 0) for x in range(n)];\n",
    "\n",
    "DS_day = []\n",
    "DS_life = []\n",
    "DS_age = []\n",
    "DS_titr = []\n",
    "\n",
    "\n",
    "i=0     \n",
    "for line in FILE:\n",
    "    S=line.split(' ')\n",
    "    S=[x for x in S if x]\n",
    "    #print(S)\n",
    "    \n",
    "    DS[i].id = int(S[3]) \n",
    "    DS[i].day = float(S[4])\n",
    "    DS[i].life = int(S[5])\n",
    "    DS[i].age = float(S[6])\n",
    "    DS[i].titr = float(S[7])\n",
    "    \n",
    "    DS_day.append(float(S[4]));\n",
    "    DS_life.append(int(S[5]));\n",
    "    DS_age.append(float(S[6]))\n",
    "    DS_titr.append(float(S[7]))\n",
    "    \n",
    "    i=i+1;\n",
    "    \n",
    "    \n",
    "FILE.close()\n",
    "\n",
    "N = float(n)\n",
    "print(N)\n",
    "\n",
    "mu = 0\n",
    "for i in range(n):\n",
    "    mu=mu+DS[i].age\n",
    "    \n",
    "print(mu/N)\n",
    "print(np.mean(DS_age))\n",
    "print(type(DS))"
   ]
  },
  {
   "cell_type": "code",
   "execution_count": 6,
   "metadata": {},
   "outputs": [
    {
     "data": {
      "image/png": "[encoded data removed]",
      "text/plain": [
       "<Figure size 432x288 with 1 Axes>"
      ]
     },
     "metadata": {},
     "output_type": "display_data"
    }
   ],
   "source": [
    "plt.hist(DS_age, bins=20, density = 1.0);"
   ]
  },
  {
   "cell_type": "code",
   "execution_count": 7,
   "metadata": {
    "scrolled": true
   },
   "outputs": [
    {
     "name": "stdout",
     "output_type": "stream",
     "text": [
      "41.09239130434783\n",
      "121.12733341209831\n",
      "----------------------------------------\n",
      "Доверительный интервал Sigm^2:[ 100.23432909471929 , 151.17053098701118 ]\n"
     ]
    },
    {
     "data": {
      "image/png": "[encoded data removed]",
      "text/plain": [
       "<Figure size 432x288 with 1 Axes>"
      ]
     },
     "metadata": {},
     "output_type": "display_data"
    }
   ],
   "source": [
    "plt.hist(DS_age, bins=20, density = 1.0);\n",
    "\n",
    "#alfa = 0.05 \n",
    "mu = np.mean(DS_age)\n",
    "print(mu)\n",
    "print(np.var(DS_age))\n",
    "print('-'*40)\n",
    "St = (sum((DS_age-mu)**2))\n",
    "\n",
    "\n",
    "LowI = St/st.chi2.ppf(0.975, 183) #Нижняя граница \n",
    "UpperI= St/st.chi2.ppf(0.025, 183) #Верхняя граница \n",
    "\n",
    "print ('Доверительный интервал Sigm^2:[',LowI,',',UpperI,']')\n",
    "\n"
   ]
  },
  {
   "cell_type": "code",
   "execution_count": 10,
   "metadata": {},
   "outputs": [
    {
     "data": {
      "image/png": "[encoded data removed]",
      "text/plain": [
       "<Figure size 432x288 with 1 Axes>"
      ]
     },
     "metadata": {},
     "output_type": "display_data"
    }
   ],
   "source": [
    "plt.hist(DS_titr, bins=20, density = 1.0);"
   ]
  },
  {
   "cell_type": "code",
   "execution_count": null,
   "metadata": {},
   "outputs": [],
   "source": []
  },
  {
   "cell_type": "code",
   "execution_count": null,
   "metadata": {},
   "outputs": [],
   "source": []
  },
  {
   "cell_type": "code",
   "execution_count": null,
   "metadata": {},
   "outputs": [],
   "source": []
  }
 ],
 "metadata": {
  "kernelspec": {
   "display_name": "Python 3",
   "language": "python",
   "name": "python3"
  },
  "language_info": {
   "codemirror_mode": {
    "name": "ipython",
    "version": 3
   },
   "file_extension": ".py",
   "mimetype": "text/x-python",
   "name": "python",
   "nbconvert_exporter": "python",
   "pygments_lexer": "ipython3",
   "version": "3.6.5"
  }
 },
 "nbformat": 4,
 "nbformat_minor": 2
}
