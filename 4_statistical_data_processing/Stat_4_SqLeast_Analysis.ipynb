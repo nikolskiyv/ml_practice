{
 "cells": [
  {
   "cell_type": "code",
   "execution_count": 102,
   "metadata": {},
   "outputs": [],
   "source": [
    "import numpy as np\n",
    "import scipy.linalg as la\n",
    "import scipy.interpolate as interp\n",
    "import scipy.integrate as integrate\n",
    "import numpy as np\n",
    "import matplotlib.pyplot as plt\n",
    "import sympy"
   ]
  },
  {
   "cell_type": "code",
   "execution_count": 103,
   "metadata": {},
   "outputs": [],
   "source": [
    "def basis_function(num, x):\n",
    "    PhiFun = x**num\n",
    "    return PhiFun  \n",
    "def  polynom_coeff(x, y, m):\n",
    "    n = len(x)\n",
    "    Phi = np.zeros ((n,m+1))\n",
    "    for k in range (0, m+1):\n",
    "        Phi[:,k] = basis_function(k, x)\n",
    "    a = np.linalg.solve(Phi.T@Phi,Phi.T@y)\n",
    "    return a"
   ]
  },
  {
   "cell_type": "markdown",
   "metadata": {},
   "source": [
    "1. Задаем данные, для которых будет искать апроксимирующую  функцию вида: $Y = b_0 + b_1*X + \\epsilon_t$"
   ]
  },
  {
   "cell_type": "code",
   "execution_count": 104,
   "metadata": {},
   "outputs": [],
   "source": [
    "from math import sqrt\n",
    "import scipy.stats as st \n",
    "n = 100\n",
    "X = np.random.randn(n)\n",
    "Delta = 0.5 * np.random.randn(n)\n",
    "Y = 3.75 + 1.25*X + Delta"
   ]
  },
  {
   "cell_type": "markdown",
   "metadata": {},
   "source": [
    "2. При помощи МНК определим коэффциенты регрессии:  $\\widehat b_0 \\: и \\: \\widehat b_1 $"
   ]
  },
  {
   "cell_type": "code",
   "execution_count": 105,
   "metadata": {},
   "outputs": [],
   "source": [
    "m  = 1\n",
    "PolynomCoefs = polynom_coeff(X, Y, m)"
   ]
  },
  {
   "cell_type": "code",
   "execution_count": 106,
   "metadata": {},
   "outputs": [],
   "source": [
    "y_prec = [ np.dot(PolynomCoefs,[basis_function(i, xi) for i  in range (0, m+1)]) for xi in X  ]"
   ]
  },
  {
   "cell_type": "code",
   "execution_count": 107,
   "metadata": {},
   "outputs": [
    {
     "name": "stdout",
     "output_type": "stream",
     "text": [
      "[3.79247664 1.29602987]\n"
     ]
    }
   ],
   "source": [
    "print(PolynomCoefs)"
   ]
  },
  {
   "cell_type": "code",
   "execution_count": 108,
   "metadata": {},
   "outputs": [
    {
     "data": {
      "text/plain": [
       "[<matplotlib.lines.Line2D at 0xad31080>]"
      ]
     },
     "execution_count": 108,
     "metadata": {},
     "output_type": "execute_result"
    },
    {
     "data": {
      "image/png": "[encoded data removed]",
      "text/plain": [
       "<Figure size 432x288 with 1 Axes>"
      ]
     },
     "metadata": {},
     "output_type": "display_data"
    }
   ],
   "source": [
    "plt.title('Y = %s + %s*X'%(np.round(PolynomCoefs[0],5),np.round(PolynomCoefs[1],5)))\n",
    "plt.xlabel('X')\n",
    "plt.ylabel('Y')\n",
    "plt.plot(X,Y,'o')\n",
    "plt.plot(X,y_prec)"
   ]
  },
  {
   "cell_type": "markdown",
   "metadata": {},
   "source": [
    "3. Найдем выборочную дисперcию остатков: \n",
    "$$S^2 = \\frac{\\sum_{i=1}^n(Y_i-\\widehat{Y_i})^2}{n-2}$$"
   ]
  },
  {
   "cell_type": "code",
   "execution_count": 109,
   "metadata": {},
   "outputs": [
    {
     "data": {
      "text/plain": [
       "0.235484"
      ]
     },
     "execution_count": 109,
     "metadata": {},
     "output_type": "execute_result"
    }
   ],
   "source": [
    "meanY = [Y.mean()]*n\n",
    "standev = np.sum(((np.array(y_prec)-np.array(Y))**2))/(n-2)\n",
    "np.round(standev,6)"
   ]
  },
  {
   "cell_type": "markdown",
   "metadata": {},
   "source": [
    "Используя S, найдем оценки дисперсий для  $\\widehat b_0 \\: и \\: \\widehat b_1 $:\n",
    "$${S_{b_0}}^2 = S^2 \\frac{\\sum_{i=1}^n(X_i)^2}{n\\sum_{i=1}^n(X_i-\\bar X)^2} $$"
   ]
  },
  {
   "cell_type": "code",
   "execution_count": 110,
   "metadata": {},
   "outputs": [
    {
     "data": {
      "text/plain": [
       "0.002374"
      ]
     },
     "execution_count": 110,
     "metadata": {},
     "output_type": "execute_result"
    }
   ],
   "source": [
    "meanX = [X.mean()]*n\n",
    "standev_b0 = (standev*np.sum(np.array(X)**2))/(n*np.sum((np.array(X)-meanX)**2))\n",
    "np.round(standev_b0,6)"
   ]
  },
  {
   "cell_type": "markdown",
   "metadata": {},
   "source": [
    "$${S_{b_1}}^2 =  \\frac{S^2}{\\sum_{i=1}^n(X_i-\\bar X)^2} $$"
   ]
  },
  {
   "cell_type": "code",
   "execution_count": 111,
   "metadata": {},
   "outputs": [
    {
     "data": {
      "text/plain": [
       "0.0023061"
      ]
     },
     "execution_count": 111,
     "metadata": {},
     "output_type": "execute_result"
    }
   ],
   "source": [
    "standev_b1 = standev/(np.sum((np.array(X)-np.array(meanX))**2))\n",
    "np.round(standev_b1,7)"
   ]
  },
  {
   "cell_type": "markdown",
   "metadata": {},
   "source": [
    "4. Оценим значимость полученных коэффициентов  регрессии $\\widehat b_0 \\: и \\: \\widehat b_1$ при помощи t-критерия"
   ]
  },
  {
   "cell_type": "markdown",
   "metadata": {},
   "source": [
    "$$H_0: \\widehat b_0 = 0 $$\n",
    "$$H_1: \\widehat b_0 \\neq  0 $$"
   ]
  },
  {
   "cell_type": "markdown",
   "metadata": {},
   "source": [
    "$Здесь \\: и \\: далее \\: примем: \\alpha = 0.05$"
   ]
  },
  {
   "cell_type": "markdown",
   "metadata": {},
   "source": [
    "$t_{b_0} = \\frac{\\widehat b_0}{S_{b_0}}$"
   ]
  },
  {
   "cell_type": "code",
   "execution_count": 112,
   "metadata": {},
   "outputs": [
    {
     "name": "stdout",
     "output_type": "stream",
     "text": [
      "t статистика для b0  =  77.834417 > 1.660391 cледовательно нулевая гипотеза о незначимости коэффициента отвергается\n"
     ]
    }
   ],
   "source": [
    "t_b0 = PolynomCoefs[0]/sqrt(standev_b0)\n",
    "print('t статистика для b0  = ',np.round(t_b0,6),'>',np.round(st.t.ppf(0.95, len(X)-1),6), 'cледовательно нулевая гипотеза о незначимости коэффициента отвергается')"
   ]
  },
  {
   "cell_type": "markdown",
   "metadata": {},
   "source": [
    "$$H_0: \\widehat b_1 = 0 $$\n",
    "$$H_1: \\widehat b_1 \\neq  0 $$\n",
    "\n",
    "$t_{b_1} = \\frac{\\widehat b_1}{S_{b_1}}$"
   ]
  },
  {
   "cell_type": "code",
   "execution_count": 113,
   "metadata": {},
   "outputs": [
    {
     "name": "stdout",
     "output_type": "stream",
     "text": [
      "t статистика для b1  =  26.988219 > 1.660391 cледовательно нулевая гипотеза о незначимости коэффициента отвергается\n"
     ]
    }
   ],
   "source": [
    "t_b1 = PolynomCoefs[1]/sqrt(standev_b1)\n",
    "print('t статистика для b1  = ',np.round(t_b1,6),'>',np.round(st.t.ppf(0.95, len(X)-1),6),'cледовательно нулевая гипотеза о незначимости коэффициента отвергается')"
   ]
  },
  {
   "cell_type": "markdown",
   "metadata": {},
   "source": [
    "5. Построим доверительные интервалы для  $\\widehat b_0 \\: и \\: \\widehat b_1$ "
   ]
  },
  {
   "cell_type": "markdown",
   "metadata": {},
   "source": [
    "Для коэффициента  b0 $$(\\widehat{b_0} - t_{1-\\alpha/2, n-2}*S_{b_0}, t_{1-\\alpha/2, n-2}*S_{b_0} + \\widehat{b_0})$$"
   ]
  },
  {
   "cell_type": "code",
   "execution_count": 114,
   "metadata": {},
   "outputs": [
    {
     "name": "stdout",
     "output_type": "stream",
     "text": [
      "для b0  = 3.792476635249959 доверительный интервал ( 3.711566390582341 , 3.873386879917577 )\n"
     ]
    }
   ],
   "source": [
    "print('для b0  =', PolynomCoefs[0],\"доверительный интервал (\",PolynomCoefs[0]-(sqrt(standev_b0)*st.t.ppf(0.95, len(X)-2)),',',PolynomCoefs[0]+(sqrt(standev_b0)*st.t.ppf(0.95, len(X)-2)),\")\")"
   ]
  },
  {
   "cell_type": "markdown",
   "metadata": {},
   "source": [
    "Для коэффициента  b1 $$(\\widehat{b_1} - t_{1-\\alpha/2, n-2}*S_{b_1}, t_{1-\\alpha/2, n-2}*S_{b_1} + \\widehat{b_1})$$"
   ]
  },
  {
   "cell_type": "code",
   "execution_count": 115,
   "metadata": {},
   "outputs": [
    {
     "name": "stdout",
     "output_type": "stream",
     "text": [
      "для b1  = 1.2960298652517035 доверительный интервал ( 1.2162867742775618 , 1.3757729562258452 )\n"
     ]
    }
   ],
   "source": [
    "print('для b1  =', PolynomCoefs[1],\"доверительный интервал (\",PolynomCoefs[1]-(sqrt(standev_b1)*st.t.ppf(0.95, len(X)-2)),',',PolynomCoefs[1]+(sqrt(standev_b1)*st.t.ppf(0.95, len(X)-2)),\")\")"
   ]
  },
  {
   "cell_type": "markdown",
   "metadata": {},
   "source": [
    "6. Определим коэффициент детерминации: \n",
    "$$R = \\frac{\\sum_{i=1}^n(\\widehat Y_i - \\bar Y)^2}{\\sum_{i=1}^n(Y_i-\\bar Y)^2} $$"
   ]
  },
  {
   "cell_type": "code",
   "execution_count": 116,
   "metadata": {},
   "outputs": [
    {
     "name": "stdout",
     "output_type": "stream",
     "text": [
      "R =  0.8814081847532439\n"
     ]
    }
   ],
   "source": [
    "R = np.sum(((np.array(y_prec)-np.array(meanY))**2))/np.sum(((np.array(Y)-np.array(meanY))**2))\n",
    "print ('R = ',R) #'коэффициент детерминации близок к единице, что указывает на хорошее качество аппроксимации наблюдаемых данных построенной моделью.')"
   ]
  },
  {
   "cell_type": "markdown",
   "metadata": {},
   "source": [
    "7. Посмотрим на остатки модели"
   ]
  },
  {
   "cell_type": "code",
   "execution_count": 117,
   "metadata": {},
   "outputs": [],
   "source": [
    "res = np.array(Y)-np.array(y_prec)"
   ]
  },
  {
   "cell_type": "code",
   "execution_count": 118,
   "metadata": {},
   "outputs": [
    {
     "data": {
      "text/plain": [
       "[<matplotlib.lines.Line2D at 0xadcfac8>]"
      ]
     },
     "execution_count": 118,
     "metadata": {},
     "output_type": "execute_result"
    },
    {
     "data": {
      "image/png": "[encoded data removed]",
      "text/plain": [
       "<Figure size 432x288 with 1 Axes>"
      ]
     },
     "metadata": {},
     "output_type": "display_data"
    }
   ],
   "source": [
    "plt.ylabel('Residuals')\n",
    "plt.plot(res,'o')"
   ]
  },
  {
   "cell_type": "code",
   "execution_count": 119,
   "metadata": {},
   "outputs": [
    {
     "data": {
      "text/plain": [
       "(0.48576164074759487, -1.7072142172387563e-15, 0.9909286711435422)"
      ]
     },
     "execution_count": 119,
     "metadata": {},
     "output_type": "execute_result"
    },
    {
     "data": {
      "image/png": "[encoded data removed]",
      "text/plain": [
       "<Figure size 432x288 with 1 Axes>"
      ]
     },
     "metadata": {},
     "output_type": "display_data"
    }
   ],
   "source": [
    "st.probplot(res, plot=plt)[1]"
   ]
  },
  {
   "cell_type": "markdown",
   "metadata": {},
   "source": [
    "Проверим независимость остатков  при помощи статистики Дарбина-Уотсона. \n",
    "$$D = \\frac{\\sum_{i=1}^n(\\epsilon_i - \\epsilon_{i-1})^2}{\\sum_{i=1}^n(\\epsilon_i)^2}$$ "
   ]
  },
  {
   "cell_type": "code",
   "execution_count": 120,
   "metadata": {},
   "outputs": [],
   "source": [
    "from statsmodels.stats.stattools import durbin_watson\n",
    "d1 = 1.654\n",
    "d2 = 1.694"
   ]
  },
  {
   "cell_type": "code",
   "execution_count": 121,
   "metadata": {},
   "outputs": [
    {
     "name": "stdout",
     "output_type": "stream",
     "text": [
      "W =  1.900475061341908\n",
      "W > du  => автокорреляция остатков отсутствует\n"
     ]
    }
   ],
   "source": [
    "err = np.array(Y)-np.array(y_prec)\n",
    "durbin_watson(err)\n",
    "print('W = ',durbin_watson(err))\n",
    "print('W > du  => автокорреляция остатков отсутствует' )"
   ]
  },
  {
   "cell_type": "code",
   "execution_count": 122,
   "metadata": {},
   "outputs": [
    {
     "data": {
      "text/plain": [
       "(0.938833416934678, 3.636882755287632e-47)"
      ]
     },
     "execution_count": 122,
     "metadata": {},
     "output_type": "execute_result"
    }
   ],
   "source": [
    "Rxy = st.pearsonr(X,Y)\n",
    "Rxy"
   ]
  },
  {
   "cell_type": "code",
   "execution_count": 123,
   "metadata": {},
   "outputs": [
    {
     "data": {
      "text/plain": [
       "(0.9838454127311707, 0.2614295482635498)"
      ]
     },
     "execution_count": 123,
     "metadata": {},
     "output_type": "execute_result"
    }
   ],
   "source": [
    "st.shapiro(np.array(Y)-np.array(y_prec))"
   ]
  },
  {
   "cell_type": "code",
   "execution_count": null,
   "metadata": {},
   "outputs": [],
   "source": []
  },
  {
   "cell_type": "code",
   "execution_count": 124,
   "metadata": {},
   "outputs": [
    {
     "data": {
      "text/plain": [
       "<matplotlib.axes._subplots.AxesSubplot at 0xb179eb8>"
      ]
     },
     "execution_count": 124,
     "metadata": {},
     "output_type": "execute_result"
    },
    {
     "data": {
      "image/png": "[encoded data removed]",
      "text/plain": [
       "<Figure size 432x288 with 1 Axes>"
      ]
     },
     "metadata": {},
     "output_type": "display_data"
    }
   ],
   "source": [
    "import pandas as pd\n",
    "err = pd.Series(err)\n",
    "err.hist()\n",
    "#график остатков"
   ]
  },
  {
   "cell_type": "code",
   "execution_count": null,
   "metadata": {},
   "outputs": [],
   "source": []
  }
 ],
 "metadata": {
  "kernelspec": {
   "display_name": "Python 3",
   "language": "python",
   "name": "python3"
  },
  "language_info": {
   "codemirror_mode": {
    "name": "ipython",
    "version": 3
   },
   "file_extension": ".py",
   "mimetype": "text/x-python",
   "name": "python",
   "nbconvert_exporter": "python",
   "pygments_lexer": "ipython3",
   "version": "3.6.5"
  }
 },
 "nbformat": 4,
 "nbformat_minor": 2
}
