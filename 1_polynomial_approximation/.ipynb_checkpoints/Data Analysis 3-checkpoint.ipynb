{
 "cells": [
  {
   "cell_type": "markdown",
   "metadata": {},
   "source": [
    "## 1.3. Сингулярное разложение"
   ]
  },
  {
   "cell_type": "code",
   "execution_count": 1,
   "metadata": {},
   "outputs": [],
   "source": [
    "import numpy as np\n",
    "import matplotlib\n",
    "import matplotlib.pyplot as plt\n",
    "from matplotlib import pyplot\n",
    "from matplotlib import image"
   ]
  },
  {
   "cell_type": "markdown",
   "metadata": {},
   "source": [
    "### Сингулярное разложение матрицы "
   ]
  },
  {
   "cell_type": "code",
   "execution_count": 2,
   "metadata": {},
   "outputs": [
    {
     "name": "stdout",
     "output_type": "stream",
     "text": [
      "A= [[ 1.    2.    3.  ]\n",
      " [ 4.    5.    6.  ]\n",
      " [ 7.    8.    9.  ]\n",
      " [10.   11.   12.01]]\n",
      "\n",
      "U= [[-1.40857707e-01 -8.25725808e-01  3.62862688e-01 -4.08248290e-01]\n",
      " [-3.43885005e-01 -4.25789858e-01 -1.83791821e-01  8.16496581e-01]\n",
      " [-5.46912303e-01 -2.58539085e-02 -7.30446330e-01 -4.08248290e-01]\n",
      " [-7.50192737e-01  3.69068372e-01  5.48634117e-01 -1.42885703e-13]]\n",
      "\n",
      "sigma= [2.54672427e+01 1.28827170e+00 2.23979095e-03]\n",
      "\n",
      "Vh= [[-0.5044406  -0.57440686 -0.64466769]\n",
      " [ 0.76134647  0.05629241 -0.64589683]\n",
      " [ 0.40729747 -0.81663206  0.40892646]]\n",
      "\n",
      "Condition = 11370.365919730471\n",
      "\n",
      "[[ 1.    2.    3.  ]\n",
      " [ 4.    5.    6.  ]\n",
      " [ 7.    8.    9.  ]\n",
      " [10.   11.   12.01]]\n",
      "\n",
      "True\n",
      "\n",
      "[[ 0.99966897  2.00066371  2.99966765]\n",
      " [ 4.00016767  4.99966383  6.00016834]\n",
      " [ 7.00066636  7.99866395  9.00066902]\n",
      " [ 9.9994995  11.0010035  12.0094975 ]]\n"
     ]
    }
   ],
   "source": [
    "A = np.array([[1,2,3],\n",
    "              [4,5,6],\n",
    "              [7,8,9],\n",
    "              [10,11,12.01]])\n",
    "\n",
    "U, s, Vh = np.linalg.svd(A) # singular value decomposition A=U*Sigma*Vh\n",
    "\n",
    "# U - matrix with right singular vetors in columns\n",
    "# s - vector of singular values\n",
    "# Vh - matrix with left singular vectors in rows\n",
    "\n",
    "print ('A=', A)\n",
    "print ()\n",
    "print ('U=', U)\n",
    "print()\n",
    "print ('sigma=', s)\n",
    "print()\n",
    "print ('Vh=',Vh)\n",
    "print()\n",
    "print ('Condition =', s[0]/s[-1]) \n",
    "print ()\n",
    "\n",
    "\n",
    "# reconstruct A \n",
    "\n",
    "n, m = A.shape\n",
    "Sigma = np.eye (n,m)\n",
    "\n",
    "for j in range (0,m):\n",
    "    Sigma[j,j]=s[j]\n",
    "           \n",
    "Ar = U @ Sigma @ Vh\n",
    "\n",
    "print (Ar)\n",
    "print ()\n",
    "\n",
    "print (np.allclose(A, Ar)) # check the result\n",
    "print ()\n",
    "\n",
    "# reconstruct matrix with cutoff for small singular values\n",
    "\n",
    "AA = np.zeros (A.shape)\n",
    "\n",
    "r = 2 # number of singular values taking into account\n",
    "\n",
    "for i in range (0,r):\n",
    "    AA +=s[i]*np.outer(U[:,i],Vh[i,:])\n",
    "    \n",
    "print (AA)\n",
    "# if r = size of s then matrix AA is identical to original matrix A   "
   ]
  },
  {
   "cell_type": "markdown",
   "metadata": {},
   "source": [
    "### Сингулярное разложение в задаче наименьших квадратов "
   ]
  },
  {
   "cell_type": "code",
   "execution_count": 3,
   "metadata": {},
   "outputs": [
    {
     "name": "stdout",
     "output_type": "stream",
     "text": [
      "texact [1 1 1]\n",
      "tclassic [ 1.50718454 -0.06072673  1.54344965]\n",
      "tsvd [0.97988858 0.99650248 1.01404476]\n"
     ]
    }
   ],
   "source": [
    "# consider the problem A*t=y\n",
    "\n",
    "texact = np.array([1,1,1]) # define exact solution\n",
    "\n",
    "# generate vector y\n",
    "\n",
    "y = A @ texact\n",
    "delta = 0.05 * np.random.randn(len(y))\n",
    "y = y + delta\n",
    "\n",
    "# Classical LS method\n",
    "\n",
    "AT = A.T\n",
    "G = AT @ A\n",
    "z = AT @ y\n",
    "tclassic = np.linalg.solve(G, z)\n",
    "\n",
    "# SVD LS method\n",
    "\n",
    "tsvd = np.zeros (len(texact))\n",
    "\n",
    "r = 2 # number of singular values taking into account\n",
    "\n",
    "for i in range (0,r):\n",
    "    tsvd += 1./s[i] * U[:,i] @ y * Vh[i,:]\n",
    "    \n",
    "print ('texact', texact)\n",
    "print ('tclassic', tclassic)\n",
    "print ('tsvd', tsvd)"
   ]
  },
  {
   "cell_type": "markdown",
   "metadata": {},
   "source": [
    "### Псевдообратная матрица"
   ]
  },
  {
   "cell_type": "code",
   "execution_count": 4,
   "metadata": {},
   "outputs": [
    {
     "name": "stdout",
     "output_type": "stream",
     "text": [
      "True\n",
      "\n",
      "True\n",
      "\n",
      "True\n",
      "\n",
      "[[  65.5         -33.66666667 -132.83333333  100.        ]\n",
      " [-132.33333333   67.          266.33333333 -200.        ]\n",
      " [  66.66666667  -33.33333333 -133.33333333  100.        ]]\n",
      "\n",
      "tsvd2 [0.97988858 0.99650248 1.01404476]\n"
     ]
    }
   ],
   "source": [
    "# A+=V*Sigma+*Uh\n",
    "\n",
    "SigmaPlus = np.eye (n,m)\n",
    "\n",
    "for j in range (0,m):\n",
    "    SigmaPlus[j,j]=1./s[j]\n",
    "\n",
    "# constract pseudo inverse matrix from SVD: A+=V*Sigma+*Uh\n",
    "Aplus1 = Vh.T @ SigmaPlus.T @ U.T\n",
    "print (np.allclose(A, A@Aplus1@A)) # check the result\n",
    "print ()\n",
    "\n",
    "# construct pseudo inverse matrix from the original one: A+=(At*A)^-1*At\n",
    "Aplus2 = np.linalg.inv(A.T @ A) @ A.T\n",
    "print (np.allclose(A, A@Aplus2@A)) # check the result\n",
    "print ()\n",
    "\n",
    "# calculate pseudo inverse matrix with NumPy\n",
    "Aplus3 = np.linalg.pinv(A)\n",
    "print (np.allclose(A, A@Aplus3@A)) # check the result\n",
    "print ()\n",
    "\n",
    "print (Aplus1)\n",
    "print ()\n",
    "\n",
    "# solve LS problem\n",
    "\n",
    "Aplus = np.linalg.pinv(A, rcond = 1e-2)\n",
    "\n",
    "# Cutoff for small singular values \n",
    "# Singular values less than or equal to rcond * largest_singular_value are set to zero\n",
    "\n",
    "tsvd2 = Aplus @ y\n",
    "print ('tsvd2', tsvd2 )"
   ]
  },
  {
   "cell_type": "markdown",
   "metadata": {},
   "source": [
    "### Сжатие изображений с помощью сингулярного разложения"
   ]
  },
  {
   "cell_type": "code",
   "execution_count": 5,
   "metadata": {},
   "outputs": [],
   "source": [
    "def to_grayscale(img):\n",
    "    return np.dot(img[..., :3], [0.3333, 0.3333, 0.3333])"
   ]
  },
  {
   "cell_type": "code",
   "execution_count": 6,
   "metadata": {},
   "outputs": [
    {
     "ename": "FileNotFoundError",
     "evalue": "[Errno 2] No such file or directory: '.\\\\photo.png'",
     "output_type": "error",
     "traceback": [
      "\u001b[0;31m---------------------------------------------------------------------------\u001b[0m",
      "\u001b[0;31mFileNotFoundError\u001b[0m                         Traceback (most recent call last)",
      "\u001b[0;32m<ipython-input-6-3a0245e47a3a>\u001b[0m in \u001b[0;36m<module>\u001b[0;34m\u001b[0m\n\u001b[1;32m      3\u001b[0m \u001b[0;31m#path = '.\\DSC_9616.jpg'\u001b[0m\u001b[0;34m\u001b[0m\u001b[0;34m\u001b[0m\u001b[0;34m\u001b[0m\u001b[0m\n\u001b[1;32m      4\u001b[0m \u001b[0;34m\u001b[0m\u001b[0m\n\u001b[0;32m----> 5\u001b[0;31m \u001b[0mimg\u001b[0m \u001b[0;34m=\u001b[0m \u001b[0mmatplotlib\u001b[0m\u001b[0;34m.\u001b[0m\u001b[0mimage\u001b[0m\u001b[0;34m.\u001b[0m\u001b[0mimread\u001b[0m\u001b[0;34m(\u001b[0m\u001b[0mpath\u001b[0m\u001b[0;34m)\u001b[0m\u001b[0;34m\u001b[0m\u001b[0;34m\u001b[0m\u001b[0m\n\u001b[0m\u001b[1;32m      6\u001b[0m \u001b[0mimg\u001b[0m \u001b[0;34m=\u001b[0m \u001b[0mto_grayscale\u001b[0m\u001b[0;34m(\u001b[0m\u001b[0mimg\u001b[0m\u001b[0;34m)\u001b[0m\u001b[0;34m\u001b[0m\u001b[0;34m\u001b[0m\u001b[0m\n\u001b[1;32m      7\u001b[0m \u001b[0;34m\u001b[0m\u001b[0m\n",
      "\u001b[0;32m~/opt/anaconda3/envs/ml/lib/python3.6/site-packages/matplotlib/image.py\u001b[0m in \u001b[0;36mimread\u001b[0;34m(fname, format)\u001b[0m\n\u001b[1;32m   1494\u001b[0m                     \u001b[0mresponse\u001b[0m \u001b[0;34m=\u001b[0m \u001b[0mio\u001b[0m\u001b[0;34m.\u001b[0m\u001b[0mBytesIO\u001b[0m\u001b[0;34m(\u001b[0m\u001b[0mresponse\u001b[0m\u001b[0;34m.\u001b[0m\u001b[0mread\u001b[0m\u001b[0;34m(\u001b[0m\u001b[0;34m)\u001b[0m\u001b[0;34m)\u001b[0m\u001b[0;34m\u001b[0m\u001b[0;34m\u001b[0m\u001b[0m\n\u001b[1;32m   1495\u001b[0m                 \u001b[0;32mreturn\u001b[0m \u001b[0mimread\u001b[0m\u001b[0;34m(\u001b[0m\u001b[0mresponse\u001b[0m\u001b[0;34m,\u001b[0m \u001b[0mformat\u001b[0m\u001b[0;34m=\u001b[0m\u001b[0mext\u001b[0m\u001b[0;34m)\u001b[0m\u001b[0;34m\u001b[0m\u001b[0;34m\u001b[0m\u001b[0m\n\u001b[0;32m-> 1496\u001b[0;31m     \u001b[0;32mwith\u001b[0m \u001b[0mimg_open\u001b[0m\u001b[0;34m(\u001b[0m\u001b[0mfname\u001b[0m\u001b[0;34m)\u001b[0m \u001b[0;32mas\u001b[0m \u001b[0mimage\u001b[0m\u001b[0;34m:\u001b[0m\u001b[0;34m\u001b[0m\u001b[0;34m\u001b[0m\u001b[0m\n\u001b[0m\u001b[1;32m   1497\u001b[0m         return (_pil_png_to_float_array(image)\n\u001b[1;32m   1498\u001b[0m                 \u001b[0;32mif\u001b[0m \u001b[0misinstance\u001b[0m\u001b[0;34m(\u001b[0m\u001b[0mimage\u001b[0m\u001b[0;34m,\u001b[0m \u001b[0mPIL\u001b[0m\u001b[0;34m.\u001b[0m\u001b[0mPngImagePlugin\u001b[0m\u001b[0;34m.\u001b[0m\u001b[0mPngImageFile\u001b[0m\u001b[0;34m)\u001b[0m \u001b[0;32melse\u001b[0m\u001b[0;34m\u001b[0m\u001b[0;34m\u001b[0m\u001b[0m\n",
      "\u001b[0;32m~/opt/anaconda3/envs/ml/lib/python3.6/site-packages/PIL/ImageFile.py\u001b[0m in \u001b[0;36m__init__\u001b[0;34m(self, fp, filename)\u001b[0m\n\u001b[1;32m    107\u001b[0m         \u001b[0;32mif\u001b[0m \u001b[0misPath\u001b[0m\u001b[0;34m(\u001b[0m\u001b[0mfp\u001b[0m\u001b[0;34m)\u001b[0m\u001b[0;34m:\u001b[0m\u001b[0;34m\u001b[0m\u001b[0;34m\u001b[0m\u001b[0m\n\u001b[1;32m    108\u001b[0m             \u001b[0;31m# filename\u001b[0m\u001b[0;34m\u001b[0m\u001b[0;34m\u001b[0m\u001b[0;34m\u001b[0m\u001b[0m\n\u001b[0;32m--> 109\u001b[0;31m             \u001b[0mself\u001b[0m\u001b[0;34m.\u001b[0m\u001b[0mfp\u001b[0m \u001b[0;34m=\u001b[0m \u001b[0mopen\u001b[0m\u001b[0;34m(\u001b[0m\u001b[0mfp\u001b[0m\u001b[0;34m,\u001b[0m \u001b[0;34m\"rb\"\u001b[0m\u001b[0;34m)\u001b[0m\u001b[0;34m\u001b[0m\u001b[0;34m\u001b[0m\u001b[0m\n\u001b[0m\u001b[1;32m    110\u001b[0m             \u001b[0mself\u001b[0m\u001b[0;34m.\u001b[0m\u001b[0mfilename\u001b[0m \u001b[0;34m=\u001b[0m \u001b[0mfp\u001b[0m\u001b[0;34m\u001b[0m\u001b[0;34m\u001b[0m\u001b[0m\n\u001b[1;32m    111\u001b[0m             \u001b[0mself\u001b[0m\u001b[0;34m.\u001b[0m\u001b[0m_exclusive_fp\u001b[0m \u001b[0;34m=\u001b[0m \u001b[0;32mTrue\u001b[0m\u001b[0;34m\u001b[0m\u001b[0;34m\u001b[0m\u001b[0m\n",
      "\u001b[0;31mFileNotFoundError\u001b[0m: [Errno 2] No such file or directory: '.\\\\photo.png'"
     ]
    }
   ],
   "source": [
    "path = '.\\photo.png'\n",
    "\n",
    "#path = '.\\DSC_9616.jpg'\n",
    "\n",
    "img = matplotlib.image.imread(path)\n",
    "img = to_grayscale(img)\n",
    "\n",
    "arr = np.array(img)\n",
    "print (arr.shape)\n",
    "\n",
    "cond = np.linalg.cond (arr)\n",
    "\n",
    "print (cond)\n",
    "\n",
    "U, s, Vh = np.linalg.svd(arr)\n",
    "\n",
    "plt.plot (s[:50]) # present first 50 singular values\n",
    "plt.figure ()\n",
    "\n",
    "n, m = arr.shape\n",
    "\n",
    "arrplus = np.zeros ((n,m))\n",
    "\n",
    "r = 50 # number of singular values taking into account\n",
    "\n",
    "for i in range (0,r):\n",
    "    arrplus +=s[i]*np.outer(U[:,i],Vh[i,:])\n",
    "    \n",
    "print (arrplus.shape)\n",
    "\n",
    "fig = plt.figure(dpi=180)\n",
    "plt.imshow(arr, cmap='gray', interpolation='none')\n",
    "\n",
    "fig = plt.figure(dpi=180)\n",
    "plt.imshow(arrplus, cmap='gray', interpolation='none')\n",
    "\n",
    "plt.figure()"
   ]
  },
  {
   "cell_type": "code",
   "execution_count": null,
   "metadata": {},
   "outputs": [],
   "source": []
  }
 ],
 "metadata": {
  "kernelspec": {
   "display_name": "Python 3",
   "language": "python",
   "name": "python3"
  },
  "language_info": {
   "codemirror_mode": {
    "name": "ipython",
    "version": 3
   },
   "file_extension": ".py",
   "mimetype": "text/x-python",
   "name": "python",
   "nbconvert_exporter": "python",
   "pygments_lexer": "ipython3",
   "version": "3.6.13"
  }
 },
 "nbformat": 4,
 "nbformat_minor": 2
}
