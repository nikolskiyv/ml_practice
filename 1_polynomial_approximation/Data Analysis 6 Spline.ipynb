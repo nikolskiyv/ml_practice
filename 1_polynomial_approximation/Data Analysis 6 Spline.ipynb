{
 "cells": [
  {
   "cell_type": "markdown",
   "metadata": {},
   "source": [
    "## 1.6  Сплайн - аппроксимация"
   ]
  },
  {
   "cell_type": "code",
   "execution_count": 76,
   "metadata": {},
   "outputs": [],
   "source": [
    "import numpy as np\n",
    "import scipy.linalg as la\n",
    "import scipy.interpolate as interp\n",
    "import matplotlib.pyplot as plt\n",
    "import scipy"
   ]
  },
  {
   "cell_type": "markdown",
   "metadata": {},
   "source": [
    "### Построение сглаживающего сплайна"
   ]
  },
  {
   "cell_type": "markdown",
   "metadata": {},
   "source": [
    "#####  построение интерполяционного сплайна рассмотрено в разделе 1.1"
   ]
  },
  {
   "cell_type": "code",
   "execution_count": 77,
   "metadata": {},
   "outputs": [],
   "source": [
    "def SplineCoefs (x, y, num_of_nodes, Xk, aplha):\n",
    "    \n",
    "    # calculation of cubic spline coefficients\n",
    "    \n",
    "    # x, y - data set\n",
    "    # num_of_nodes - number of nodes for spline approximation\n",
    "    # Xk - vector of x-values at the nodes\n",
    "    # aplha - regularization parameter\n",
    "    \n",
    "    n = len(x)\n",
    "    e = np.eye (n)\n",
    "    Phi = np.zeros ((n,num_of_nodes+4)) # Matrix of basic functions\n",
    "    \n",
    "    RegAlpha = np.eye (num_of_nodes+4) * alpha     \n",
    "        \n",
    "    Phi = BasicFunctionsSpline (num_of_nodes, Xk, x) \n",
    "    \n",
    "    PhiT = Phi.T\n",
    "    G = PhiT @ Phi + RegAlpha\n",
    "    z = PhiT @ y\n",
    "    a = np.linalg.solve(G, z)\n",
    "    \n",
    "    return a\n",
    "\n",
    "def SplineCoefsN (x, y, num_of_nodes, Xk, aplha):\n",
    "    \n",
    "    # calculation of NATURALE cubic spline coefficients\n",
    "    \n",
    "    # x, y - data set\n",
    "    # num_of_nodes - number of nodes for spline approximation\n",
    "    # Xk - vector of x-values at the nodes\n",
    "    # aplha - regularization parameter\n",
    "    \n",
    "    n = len(x)\n",
    "    e = np.eye (n)\n",
    "    Phi = np.zeros ((n, num_of_nodes)) # Matrix of basic functions\n",
    "    \n",
    "    RegAlpha = np.eye (num_of_nodes) * alpha     \n",
    "        \n",
    "    Phi = BasicFunctionsSplineN (num_of_nodes, Xk, x)  \n",
    "        \n",
    "    PhiT = Phi.T\n",
    "    G = PhiT @ Phi + RegAlpha\n",
    "    z = PhiT @ y\n",
    "    a = np.linalg.solve(G, z)\n",
    "    \n",
    "    return a\n",
    "\n",
    "def SplineValues(a, x):\n",
    "    \n",
    "    # calculation of NATURALE spline values\n",
    "    \n",
    "    Phi = BasicFunctionsSpline (num_of_nodes, Xk, x)\n",
    "    values = Phi@a\n",
    "    \n",
    "    return values\n",
    "\n",
    "def SplineValuesN(a, x):\n",
    "    \n",
    "    # calculation of Natural cubic spline values\n",
    "    \n",
    "    Phi = BasicFunctionsSplineN (num_of_nodes, Xk, x)\n",
    "    values = Phi@a\n",
    "    \n",
    "    return values\n",
    "\n",
    "def BasicFunctionsSpline (num_of_nodes, Xk, x):\n",
    "    \n",
    "    # basic functions for cubic spline\n",
    "    \n",
    "    m = num_of_nodes + 4\n",
    "    \n",
    "    PhiFunArray = np.zeros ((len(x), m)) # Matrix of basic functions\n",
    "    \n",
    "    #print (PhiFunArray.shape)\n",
    "    \n",
    "    PhiFunArray [:,0] = 1 \n",
    "    PhiFunArray [:,1] = x; PhiFunArray [:,2] = x**2; PhiFunArray [:,3] = x**3\n",
    "    \n",
    "    for k in range (0, num_of_nodes):\n",
    "        PhiFunArray [:,k+4] = 0.\n",
    "        for i in range (0, len(x)):\n",
    "            if (x[i]>Xk[k]):\n",
    "                PhiFunArray [i,k+4] = (x[i] - Xk[k])**3\n",
    "    \n",
    "    return PhiFunArray\n",
    "\n",
    "def BasicFunctionsSplineN (num_of_nodes, Xk, x):\n",
    "    \n",
    "    # basic functions for NATURALE cubic spline\n",
    "    \n",
    "    m = num_of_nodes #+ 2\n",
    "    \n",
    "    PhiFunArray = np.zeros ((len(x), m)) # Matrix of basic functions\n",
    "    \n",
    "    Dkk = np.zeros ((len(x), m))\n",
    "    Dk = np.zeros ((len(x), m))\n",
    "    \n",
    "    #print (PhiFunArray.shape)\n",
    "    \n",
    "    PhiFunArray [:,0] = 1 \n",
    "    PhiFunArray [:,1] = x \n",
    "    \n",
    "    for k in range (0, num_of_nodes):\n",
    "        Dkk [:,k] = 0.\n",
    "        for i in range (0, len(x)):\n",
    "            if (x[i]>Xk[k]):\n",
    "                Dkk [i,k] = (x[i] - Xk[k])**3\n",
    "    \n",
    "                    \n",
    "    for k in range (0, num_of_nodes-1):\n",
    "        Dk[:,k] = (Dkk [:,k] - Dkk [:,num_of_nodes-1])/(Xk[num_of_nodes-1]-Xk[k])\n",
    "        \n",
    "         \n",
    "    for k in range (0, num_of_nodes-2):\n",
    "        PhiFunArray [:,k+2] = Dk[:,k] - Dk[:,num_of_nodes-2]\n",
    "    \n",
    "           \n",
    "    return PhiFunArray"
   ]
  },
  {
   "cell_type": "markdown",
   "metadata": {},
   "source": [
    "### Пример "
   ]
  },
  {
   "cell_type": "code",
   "execution_count": 78,
   "metadata": {},
   "outputs": [
    {
     "name": "stdout",
     "output_type": "stream",
     "text": [
      "0.3333333333333333 [-0.66666667 -0.33333333  0.          0.33333333  0.66666667]\n"
     ]
    },
    {
     "data": {
      "text/plain": [
       "[<matplotlib.lines.Line2D at 0x1fc0ff71850>]"
      ]
     },
     "execution_count": 78,
     "metadata": {},
     "output_type": "execute_result"
    },
    {
     "data": {
      "image/png": "[encoded data removed]",
      "text/plain": [
       "<Figure size 432x288 with 1 Axes>"
      ]
     },
     "metadata": {
      "needs_background": "light"
     },
     "output_type": "display_data"
    },
    {
     "data": {
      "image/png": "[encoded data removed]",
      "text/plain": [
       "<Figure size 432x288 with 1 Axes>"
      ]
     },
     "metadata": {
      "needs_background": "light"
     },
     "output_type": "display_data"
    }
   ],
   "source": [
    "xleft = -1.0; xright = 1.0\n",
    "n = 24\n",
    "x = np.linspace(xleft,xright,n)\n",
    "yf = 1./(1.+25.*x**2)\n",
    "\n",
    "Delta = 0.1 * np.random.randn(len(x))\n",
    "y = yf + Delta\n",
    "\n",
    "num_of_nodes = 5\n",
    "\n",
    "Xk = np.zeros (num_of_nodes)\n",
    "\n",
    "dx = (xright - xleft)/(num_of_nodes+1)\n",
    "\n",
    "for k in range (0, num_of_nodes):\n",
    "    Xk[k] = xleft + dx*(k+1)\n",
    "    \n",
    "#Xk = np.sort(xleft + np.random.random(num_of_nodes)*(xright-xleft))\n",
    "    \n",
    "print (dx, Xk)\n",
    "\n",
    "nplot = 100\n",
    "xplot = np.linspace(xleft,xright,nplot)\n",
    "yplot_exact = 1./(1.+25.*xplot**2)\n",
    "\n",
    "\n",
    "alpha = 0.000\n",
    "\n",
    "a = SplineCoefs (x, y, num_of_nodes, Xk, alpha)\n",
    "\n",
    "ySpline = SplineValues(a, xplot)\n",
    "\n",
    "plt.plot (x, y, 'o', color = 'orange')\n",
    "plt.plot (xplot, ySpline, color = 'blue')\n",
    "#plt.plot (xplot, yplot_exact, color = 'red')\n",
    "plt.figure()\n",
    "     \n",
    "alpha = 0.000\n",
    "\n",
    "a = SplineCoefsN (x, y, num_of_nodes, Xk, alpha)\n",
    "\n",
    "ySpline = SplineValuesN(a, xplot)\n",
    "\n",
    "plt.plot (x, y, 'o', color = 'orange')\n",
    "plt.plot (xplot, ySpline,'blue' )\n",
    "#plt.plot (xplot, yplot_exact, color = 'red')\n",
    "\n"
   ]
  },
  {
   "cell_type": "code",
   "execution_count": null,
   "metadata": {},
   "outputs": [],
   "source": []
  }
 ],
 "metadata": {
  "kernelspec": {
   "display_name": "Python 3",
   "language": "python",
   "name": "python3"
  },
  "language_info": {
   "codemirror_mode": {
    "name": "ipython",
    "version": 3
   },
   "file_extension": ".py",
   "mimetype": "text/x-python",
   "name": "python",
   "nbconvert_exporter": "python",
   "pygments_lexer": "ipython3",
   "version": "3.8.3"
  }
 },
 "nbformat": 4,
 "nbformat_minor": 2
}
